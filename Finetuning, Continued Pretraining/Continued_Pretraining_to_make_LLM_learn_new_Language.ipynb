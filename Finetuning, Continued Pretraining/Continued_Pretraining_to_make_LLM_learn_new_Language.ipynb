{
 "nbformat": 4,
 "nbformat_minor": 0,
 "metadata": {
  "colab": {
   "provenance": [],
   "gpuType": "T4"
  },
  "kernelspec": {
   "name": "python3",
   "display_name": "Python 3"
  },
  "language_info": {
   "name": "python"
  },
  "accelerator": "GPU"
 },
 "cells": [
  {
   "cell_type": "markdown",
   "source": [
    "\n",
    "\n",
    "<a href=\"https://colab.research.google.com/drive/1HcEmn7uTokgXtvBh1gZawdtWVEfCaovG?usp=sharing\" target=\"_blank\">\n",
    "  <img src=\"https://colab.research.google.com/assets/colab-badge.svg\" alt=\"Open in Colab\"/>\n",
    "</a>"
   ],
   "metadata": {
    "id": "OHx_g-HGTf17"
   }
  },
  {
   "cell_type": "code",
   "execution_count": 1,
   "metadata": {
    "colab": {
     "base_uri": "https://localhost:8080/"
    },
    "id": "xxMgDASYTe3D",
    "outputId": "3aae0acc-dde0-4690-c4b1-b88994076310"
   },
   "outputs": [
    {
     "output_type": "stream",
     "name": "stdout",
     "text": [
      "\u001b[2K     \u001b[90m\u2501\u2501\u2501\u2501\u2501\u2501\u2501\u2501\u2501\u2501\u2501\u2501\u2501\u2501\u2501\u2501\u2501\u2501\u2501\u2501\u2501\u2501\u2501\u2501\u2501\u2501\u2501\u2501\u2501\u2501\u2501\u2501\u2501\u2501\u2501\u2501\u2501\u2501\u2501\u2501\u001b[0m \u001b[32m46.4/46.4 kB\u001b[0m \u001b[31m1.5 MB/s\u001b[0m eta \u001b[36m0:00:00\u001b[0m\n",
      "\u001b[2K   \u001b[90m\u2501\u2501\u2501\u2501\u2501\u2501\u2501\u2501\u2501\u2501\u2501\u2501\u2501\u2501\u2501\u2501\u2501\u2501\u2501\u2501\u2501\u2501\u2501\u2501\u2501\u2501\u2501\u2501\u2501\u2501\u2501\u2501\u2501\u2501\u2501\u2501\u2501\u2501\u2501\u2501\u001b[0m \u001b[32m193.2/193.2 kB\u001b[0m \u001b[31m10.3 MB/s\u001b[0m eta \u001b[36m0:00:00\u001b[0m\n",
      "\u001b[2K   \u001b[90m\u2501\u2501\u2501\u2501\u2501\u2501\u2501\u2501\u2501\u2501\u2501\u2501\u2501\u2501\u2501\u2501\u2501\u2501\u2501\u2501\u2501\u2501\u2501\u2501\u2501\u2501\u2501\u2501\u2501\u2501\u2501\u2501\u2501\u2501\u2501\u2501\u2501\u2501\u2501\u2501\u001b[0m \u001b[32m76.1/76.1 MB\u001b[0m \u001b[31m12.5 MB/s\u001b[0m eta \u001b[36m0:00:00\u001b[0m\n",
      "\u001b[2K   \u001b[90m\u2501\u2501\u2501\u2501\u2501\u2501\u2501\u2501\u2501\u2501\u2501\u2501\u2501\u2501\u2501\u2501\u2501\u2501\u2501\u2501\u2501\u2501\u2501\u2501\u2501\u2501\u2501\u2501\u2501\u2501\u2501\u2501\u2501\u2501\u2501\u2501\u2501\u2501\u2501\u2501\u001b[0m \u001b[32m491.2/491.2 kB\u001b[0m \u001b[31m24.5 MB/s\u001b[0m eta \u001b[36m0:00:00\u001b[0m\n",
      "\u001b[2K   \u001b[90m\u2501\u2501\u2501\u2501\u2501\u2501\u2501\u2501\u2501\u2501\u2501\u2501\u2501\u2501\u2501\u2501\u2501\u2501\u2501\u2501\u2501\u2501\u2501\u2501\u2501\u2501\u2501\u2501\u2501\u2501\u2501\u2501\u2501\u2501\u2501\u2501\u2501\u2501\u2501\u2501\u001b[0m \u001b[32m116.3/116.3 kB\u001b[0m \u001b[31m9.4 MB/s\u001b[0m eta \u001b[36m0:00:00\u001b[0m\n",
      "\u001b[2K   \u001b[90m\u2501\u2501\u2501\u2501\u2501\u2501\u2501\u2501\u2501\u2501\u2501\u2501\u2501\u2501\u2501\u2501\u2501\u2501\u2501\u2501\u2501\u2501\u2501\u2501\u2501\u2501\u2501\u2501\u2501\u2501\u2501\u2501\u2501\u2501\u2501\u2501\u2501\u2501\u2501\u2501\u001b[0m \u001b[32m183.9/183.9 kB\u001b[0m \u001b[31m15.1 MB/s\u001b[0m eta \u001b[36m0:00:00\u001b[0m\n",
      "\u001b[2K   \u001b[90m\u2501\u2501\u2501\u2501\u2501\u2501\u2501\u2501\u2501\u2501\u2501\u2501\u2501\u2501\u2501\u2501\u2501\u2501\u2501\u2501\u2501\u2501\u2501\u2501\u2501\u2501\u2501\u2501\u2501\u2501\u2501\u2501\u2501\u2501\u2501\u2501\u2501\u2501\u2501\u2501\u001b[0m \u001b[32m143.5/143.5 kB\u001b[0m \u001b[31m11.8 MB/s\u001b[0m eta \u001b[36m0:00:00\u001b[0m\n",
      "\u001b[2K   \u001b[90m\u2501\u2501\u2501\u2501\u2501\u2501\u2501\u2501\u2501\u2501\u2501\u2501\u2501\u2501\u2501\u2501\u2501\u2501\u2501\u2501\u2501\u2501\u2501\u2501\u2501\u2501\u2501\u2501\u2501\u2501\u2501\u2501\u2501\u2501\u2501\u2501\u2501\u2501\u2501\u2501\u001b[0m \u001b[32m162.1/162.1 kB\u001b[0m \u001b[31m12.4 MB/s\u001b[0m eta \u001b[36m0:00:00\u001b[0m\n",
      "\u001b[2K   \u001b[90m\u2501\u2501\u2501\u2501\u2501\u2501\u2501\u2501\u2501\u2501\u2501\u2501\u2501\u2501\u2501\u2501\u2501\u2501\u2501\u2501\u2501\u2501\u2501\u2501\u2501\u2501\u2501\u2501\u2501\u2501\u2501\u2501\u2501\u2501\u2501\u2501\u2501\u2501\u2501\u2501\u001b[0m \u001b[32m363.4/363.4 MB\u001b[0m \u001b[31m4.2 MB/s\u001b[0m eta \u001b[36m0:00:00\u001b[0m\n",
      "\u001b[2K   \u001b[90m\u2501\u2501\u2501\u2501\u2501\u2501\u2501\u2501\u2501\u2501\u2501\u2501\u2501\u2501\u2501\u2501\u2501\u2501\u2501\u2501\u2501\u2501\u2501\u2501\u2501\u2501\u2501\u2501\u2501\u2501\u2501\u2501\u2501\u2501\u2501\u2501\u2501\u2501\u2501\u2501\u001b[0m \u001b[32m13.8/13.8 MB\u001b[0m \u001b[31m81.5 MB/s\u001b[0m eta \u001b[36m0:00:00\u001b[0m\n",
      "\u001b[2K   \u001b[90m\u2501\u2501\u2501\u2501\u2501\u2501\u2501\u2501\u2501\u2501\u2501\u2501\u2501\u2501\u2501\u2501\u2501\u2501\u2501\u2501\u2501\u2501\u2501\u2501\u2501\u2501\u2501\u2501\u2501\u2501\u2501\u2501\u2501\u2501\u2501\u2501\u2501\u2501\u2501\u2501\u001b[0m \u001b[32m24.6/24.6 MB\u001b[0m \u001b[31m62.6 MB/s\u001b[0m eta \u001b[36m0:00:00\u001b[0m\n",
      "\u001b[2K   \u001b[90m\u2501\u2501\u2501\u2501\u2501\u2501\u2501\u2501\u2501\u2501\u2501\u2501\u2501\u2501\u2501\u2501\u2501\u2501\u2501\u2501\u2501\u2501\u2501\u2501\u2501\u2501\u2501\u2501\u2501\u2501\u2501\u2501\u2501\u2501\u2501\u2501\u2501\u2501\u2501\u2501\u001b[0m \u001b[32m883.7/883.7 kB\u001b[0m \u001b[31m47.8 MB/s\u001b[0m eta \u001b[36m0:00:00\u001b[0m\n",
      "\u001b[2K   \u001b[90m\u2501\u2501\u2501\u2501\u2501\u2501\u2501\u2501\u2501\u2501\u2501\u2501\u2501\u2501\u2501\u2501\u2501\u2501\u2501\u2501\u2501\u2501\u2501\u2501\u2501\u2501\u2501\u2501\u2501\u2501\u2501\u2501\u2501\u2501\u2501\u2501\u2501\u2501\u2501\u2501\u001b[0m \u001b[32m664.8/664.8 MB\u001b[0m \u001b[31m1.8 MB/s\u001b[0m eta \u001b[36m0:00:00\u001b[0m\n",
      "\u001b[2K   \u001b[90m\u2501\u2501\u2501\u2501\u2501\u2501\u2501\u2501\u2501\u2501\u2501\u2501\u2501\u2501\u2501\u2501\u2501\u2501\u2501\u2501\u2501\u2501\u2501\u2501\u2501\u2501\u2501\u2501\u2501\u2501\u2501\u2501\u2501\u2501\u2501\u2501\u2501\u2501\u2501\u2501\u001b[0m \u001b[32m211.5/211.5 MB\u001b[0m \u001b[31m5.4 MB/s\u001b[0m eta \u001b[36m0:00:00\u001b[0m\n",
      "\u001b[2K   \u001b[90m\u2501\u2501\u2501\u2501\u2501\u2501\u2501\u2501\u2501\u2501\u2501\u2501\u2501\u2501\u2501\u2501\u2501\u2501\u2501\u2501\u2501\u2501\u2501\u2501\u2501\u2501\u2501\u2501\u2501\u2501\u2501\u2501\u2501\u2501\u2501\u2501\u2501\u2501\u2501\u2501\u001b[0m \u001b[32m56.3/56.3 MB\u001b[0m \u001b[31m13.0 MB/s\u001b[0m eta \u001b[36m0:00:00\u001b[0m\n",
      "\u001b[2K   \u001b[90m\u2501\u2501\u2501\u2501\u2501\u2501\u2501\u2501\u2501\u2501\u2501\u2501\u2501\u2501\u2501\u2501\u2501\u2501\u2501\u2501\u2501\u2501\u2501\u2501\u2501\u2501\u2501\u2501\u2501\u2501\u2501\u2501\u2501\u2501\u2501\u2501\u2501\u2501\u2501\u2501\u001b[0m \u001b[32m127.9/127.9 MB\u001b[0m \u001b[31m6.9 MB/s\u001b[0m eta \u001b[36m0:00:00\u001b[0m\n",
      "\u001b[2K   \u001b[90m\u2501\u2501\u2501\u2501\u2501\u2501\u2501\u2501\u2501\u2501\u2501\u2501\u2501\u2501\u2501\u2501\u2501\u2501\u2501\u2501\u2501\u2501\u2501\u2501\u2501\u2501\u2501\u2501\u2501\u2501\u2501\u2501\u2501\u2501\u2501\u2501\u2501\u2501\u2501\u2501\u001b[0m \u001b[32m207.5/207.5 MB\u001b[0m \u001b[31m5.9 MB/s\u001b[0m eta \u001b[36m0:00:00\u001b[0m\n",
      "\u001b[2K   \u001b[90m\u2501\u2501\u2501\u2501\u2501\u2501\u2501\u2501\u2501\u2501\u2501\u2501\u2501\u2501\u2501\u2501\u2501\u2501\u2501\u2501\u2501\u2501\u2501\u2501\u2501\u2501\u2501\u2501\u2501\u2501\u2501\u2501\u2501\u2501\u2501\u2501\u2501\u2501\u2501\u2501\u001b[0m \u001b[32m21.1/21.1 MB\u001b[0m \u001b[31m103.8 MB/s\u001b[0m eta \u001b[36m0:00:00\u001b[0m\n",
      "\u001b[2K   \u001b[90m\u2501\u2501\u2501\u2501\u2501\u2501\u2501\u2501\u2501\u2501\u2501\u2501\u2501\u2501\u2501\u2501\u2501\u2501\u2501\u2501\u2501\u2501\u2501\u2501\u2501\u2501\u2501\u2501\u2501\u2501\u2501\u2501\u2501\u2501\u2501\u2501\u2501\u2501\u2501\u2501\u001b[0m \u001b[32m318.9/318.9 kB\u001b[0m \u001b[31m22.8 MB/s\u001b[0m eta \u001b[36m0:00:00\u001b[0m\n",
      "\u001b[2K   \u001b[90m\u2501\u2501\u2501\u2501\u2501\u2501\u2501\u2501\u2501\u2501\u2501\u2501\u2501\u2501\u2501\u2501\u2501\u2501\u2501\u2501\u2501\u2501\u2501\u2501\u2501\u2501\u2501\u2501\u2501\u2501\u2501\u2501\u2501\u2501\u2501\u2501\u2501\u2501\u2501\u2501\u001b[0m \u001b[32m128.9/128.9 kB\u001b[0m \u001b[31m12.9 MB/s\u001b[0m eta \u001b[36m0:00:00\u001b[0m\n",
      "\u001b[2K   \u001b[90m\u2501\u2501\u2501\u2501\u2501\u2501\u2501\u2501\u2501\u2501\u2501\u2501\u2501\u2501\u2501\u2501\u2501\u2501\u2501\u2501\u2501\u2501\u2501\u2501\u2501\u2501\u2501\u2501\u2501\u2501\u2501\u2501\u2501\u2501\u2501\u2501\u2501\u2501\u2501\u2501\u001b[0m \u001b[32m43.4/43.4 MB\u001b[0m \u001b[31m17.0 MB/s\u001b[0m eta \u001b[36m0:00:00\u001b[0m\n",
      "\u001b[2K   \u001b[90m\u2501\u2501\u2501\u2501\u2501\u2501\u2501\u2501\u2501\u2501\u2501\u2501\u2501\u2501\u2501\u2501\u2501\u2501\u2501\u2501\u2501\u2501\u2501\u2501\u2501\u2501\u2501\u2501\u2501\u2501\u2501\u2501\u2501\u2501\u2501\u2501\u2501\u2501\u2501\u2501\u001b[0m \u001b[32m3.6/3.6 MB\u001b[0m \u001b[31m112.8 MB/s\u001b[0m eta \u001b[36m0:00:00\u001b[0m\n",
      "\u001b[2K   \u001b[90m\u2501\u2501\u2501\u2501\u2501\u2501\u2501\u2501\u2501\u2501\u2501\u2501\u2501\u2501\u2501\u2501\u2501\u2501\u2501\u2501\u2501\u2501\u2501\u2501\u2501\u2501\u2501\u2501\u2501\u2501\u2501\u2501\u2501\u2501\u2501\u2501\u2501\u2501\u2501\u2501\u001b[0m \u001b[32m124.3/124.3 kB\u001b[0m \u001b[31m12.5 MB/s\u001b[0m eta \u001b[36m0:00:00\u001b[0m\n",
      "\u001b[2K   \u001b[90m\u2501\u2501\u2501\u2501\u2501\u2501\u2501\u2501\u2501\u2501\u2501\u2501\u2501\u2501\u2501\u2501\u2501\u2501\u2501\u2501\u2501\u2501\u2501\u2501\u2501\u2501\u2501\u2501\u2501\u2501\u2501\u2501\u2501\u2501\u2501\u2501\u2501\u2501\u2501\u2501\u001b[0m \u001b[32m194.8/194.8 kB\u001b[0m \u001b[31m18.1 MB/s\u001b[0m eta \u001b[36m0:00:00\u001b[0m\n",
      "\u001b[?25h\u001b[31mERROR: pip's dependency resolver does not currently take into account all the packages that are installed. This behaviour is the source of the following dependency conflicts.\n",
      "tensorflow-metadata 1.17.1 requires protobuf<6.0.0,>=4.25.2; python_version >= \"3.11\", but you have protobuf 3.20.3 which is incompatible.\n",
      "grpcio-status 1.71.0 requires protobuf<6.0dev,>=5.26.1, but you have protobuf 3.20.3 which is incompatible.\n",
      "ydf 0.11.0 requires protobuf<6.0.0,>=5.29.1, but you have protobuf 3.20.3 which is incompatible.\n",
      "gcsfs 2025.3.2 requires fsspec==2025.3.2, but you have fsspec 2024.12.0 which is incompatible.\u001b[0m\u001b[31m\n",
      "\u001b[0m"
     ]
    }
   ],
   "source": [
    "#1 Install necessary packages\n",
    "!pip install -q unsloth accelerate bitsandbytes datasets transformers peft"
   ]
  },
  {
   "cell_type": "code",
   "source": [
    "#2 Load TinyLlama model using Unsloth\n",
    "from unsloth import FastLanguageModel\n",
    "import torch\n",
    "\n",
    "model, tokenizer = FastLanguageModel.from_pretrained(\n",
    "    model_name=\"TinyLlama/TinyLlama-1.1B-Chat-v1.0\",\n",
    "    max_seq_length=2048,\n",
    "    dtype=torch.float16,\n",
    "    load_in_4bit=True\n",
    ")\n",
    "\n",
    "tokenizer.pad_token = tokenizer.eos_token\n"
   ],
   "metadata": {
    "colab": {
     "base_uri": "https://localhost:8080/",
     "height": 365,
     "referenced_widgets": [
      "ff4b0f8786f54f878c8e3849a540548c",
      "c8a993081f20499b987a97c01497ded4",
      "7f0843af71944e21940c21191330f525",
      "75093af04876421e8f13e5ab94cb19a3",
      "53607a45149b4793a046e043238e16bd",
      "571b96d222de43a5b2a1e27226bbd49d",
      "7e0fbaff4ff2421caef01ca7a0ec382c",
      "17ff6717bf044520b6ff4f4bd0fb4561",
      "6b458fbf732d494fb5e2451ece863432",
      "0ea2590ed62b4a07b3b3b885a759f251",
      "1c925a2d100c4204a962b8b7fc8ee388",
      "899454cc3b9b43ac995199cbc29fe403",
      "4c6d31718f854f76bddd182de9263375",
      "5c30ed1817d2421b9c24f1bad859a26f",
      "c114e566ec1d48f3b580166cfcc9e022",
      "965c3ea8c8894efeb56810b7b3be864a",
      "b8783dc366d84e7293b2907e24017177",
      "113191efe41f4cd1803f85d71ee00642",
      "1118beabd51145f188240bf99254ecab",
      "426e34588a1f43d0abba94c1e83fabb1",
      "316e986f1b334646a204d158f6756058",
      "63c5f8a02b254da795e735430a1c5d36",
      "2290fed0a051417e934c44abfc1a1273",
      "15e1cabf1bfa4c60b9df4908b84f1174",
      "d4dba94e4b91479688b530a880586724",
      "38201722571d4c6091503ffd27d9851f",
      "7cde9d7b6e3c47b7a25447cbb7f1578c",
      "1b28ac20d49949349dc69bf8b38f3e96",
      "2048e01b12734baaba940852d2fd5003",
      "a52246de034947b69c44d14532f8a3b0",
      "2f4d3c9333fa4e4d9d154a248434fee5",
      "276e67e69dbf45f4953e6df990b794a7",
      "78a756b283a64e0799037dcba32ba92c",
      "8a7f93b1b67742699b99f7dc88c2595d",
      "176b7d5a0d8943a7a701c9a77fec6959",
      "fade21caea284719ae22058652e06c5f",
      "9c0e1436a9234dcda33e7ae52df7053a",
      "d2ae2d0c13554dda83568022bdc81091",
      "a8e7ff9c98d441a69ea3f5f60da65f58",
      "cc881eeba4764e1da92ea1dca7ed7a09",
      "c7ac5679d9624c9b8887dfc5ed00e896",
      "489cbaf5267f430d8e1b60c4ff2b8848",
      "c4f6d9836bae4ee08be2d393fbcafff7",
      "884230f1530a4c50908e79e3ef97ff2b",
      "6b74121d867c42a59728fa26e58ed5b3",
      "cd845661ad134a66963d0c75b82bf820",
      "b44701637f4144bea6426814ea83854c",
      "9e73084a36734d3eba9bb15dedc7d21b",
      "803af6b3580f44858b0f647adff8fbb6",
      "c46259c562104bc0949a29fe9d22fd3e",
      "49aed064ca7246a7a7ec34c8b845a4a5",
      "90802a55ef314885b0cc3b17bf6783c7",
      "1ceed1415b694f7d84736159e96912cc",
      "037dc7ab81444a368a203464b56a8221",
      "5a638f16d3784bbd858466b12e4d5255",
      "7df5a1fb2b284fd787333afecfc9edf5",
      "b5cb5a572da0486fbfe21553673268b5",
      "25867861f2b441f190a4f5834edec465",
      "7a5786cc80b64f89b999c3d582097ff6",
      "77efeb471f984fa78397feaa5d15a121",
      "2975bd9be7894fafbf049d96f57d8b54",
      "51a89baccb884f82a659b5674622dd39",
      "cfc4c848c48a4ec0b8ee3625f04f04e3",
      "fee6a934cbc144e9b8be392f15779d6d",
      "c7420004680148a69acbc08fe788505a",
      "99a370a72c6b4f698e1d3efa71c2d48f"
     ]
    },
    "id": "KC9cxziVTj-u",
    "outputId": "a9d0061e-33e6-4562-ace2-4fc0132fbe9e"
   },
   "execution_count": 2,
   "outputs": [
    {
     "output_type": "stream",
     "name": "stdout",
     "text": [
      "\ud83e\udda5 Unsloth: Will patch your computer to enable 2x faster free finetuning.\n",
      "Unsloth: Failed to patch SmolVLMForConditionalGeneration forward function.\n",
      "\ud83e\udda5 Unsloth Zoo will now patch everything to make training faster!\n",
      "==((====))==  Unsloth 2025.4.1: Fast Llama patching. Transformers: 4.51.3.\n",
      "   \\\\   /|    Tesla T4. Num GPUs = 1. Max memory: 14.741 GB. Platform: Linux.\n",
      "O^O/ \\_/ \\    Torch: 2.6.0+cu124. CUDA: 7.5. CUDA Toolkit: 12.4. Triton: 3.2.0\n",
      "\\        /    Bfloat16 = FALSE. FA [Xformers = 0.0.29.post3. FA2 = False]\n",
      " \"-____-\"     Free license: http://github.com/unslothai/unsloth\n",
      "Unsloth: Fast downloading is enabled - ignore downloading bars which are red colored!\n"
     ]
    },
    {
     "output_type": "display_data",
     "data": {
      "text/plain": [
       "model.safetensors:   0%|          | 0.00/762M [00:00<?, ?B/s]"
      ],
      "application/vnd.jupyter.widget-view+json": {
       "version_major": 2,
       "version_minor": 0,
       "model_id": "ff4b0f8786f54f878c8e3849a540548c"
      }
     },
     "metadata": {}
    },
    {
     "output_type": "display_data",
     "data": {
      "text/plain": [
       "generation_config.json:   0%|          | 0.00/124 [00:00<?, ?B/s]"
      ],
      "application/vnd.jupyter.widget-view+json": {
       "version_major": 2,
       "version_minor": 0,
       "model_id": "899454cc3b9b43ac995199cbc29fe403"
      }
     },
     "metadata": {}
    },
    {
     "output_type": "display_data",
     "data": {
      "text/plain": [
       "tokenizer_config.json:   0%|          | 0.00/1.37k [00:00<?, ?B/s]"
      ],
      "application/vnd.jupyter.widget-view+json": {
       "version_major": 2,
       "version_minor": 0,
       "model_id": "2290fed0a051417e934c44abfc1a1273"
      }
     },
     "metadata": {}
    },
    {
     "output_type": "display_data",
     "data": {
      "text/plain": [
       "tokenizer.model:   0%|          | 0.00/500k [00:00<?, ?B/s]"
      ],
      "application/vnd.jupyter.widget-view+json": {
       "version_major": 2,
       "version_minor": 0,
       "model_id": "8a7f93b1b67742699b99f7dc88c2595d"
      }
     },
     "metadata": {}
    },
    {
     "output_type": "display_data",
     "data": {
      "text/plain": [
       "special_tokens_map.json:   0%|          | 0.00/438 [00:00<?, ?B/s]"
      ],
      "application/vnd.jupyter.widget-view+json": {
       "version_major": 2,
       "version_minor": 0,
       "model_id": "6b74121d867c42a59728fa26e58ed5b3"
      }
     },
     "metadata": {}
    },
    {
     "output_type": "display_data",
     "data": {
      "text/plain": [
       "tokenizer.json:   0%|          | 0.00/1.84M [00:00<?, ?B/s]"
      ],
      "application/vnd.jupyter.widget-view+json": {
       "version_major": 2,
       "version_minor": 0,
       "model_id": "7df5a1fb2b284fd787333afecfc9edf5"
      }
     },
     "metadata": {}
    }
   ]
  },
  {
   "cell_type": "code",
   "source": [
    "#3 Prepare a simulated low-resource language dataset\n",
    "from datasets import Dataset\n",
    "\n",
    "corpus = [\n",
    "    {\"text\": \"Sovari minta kalano vesti.\"},\n",
    "    {\"text\": \"Pravana torvik selomi vasti koran.\"},\n",
    "    {\"text\": \"Nokita valora sintra pavo venti.\"},\n",
    "    {\"text\": \"Lomari silvon ketra manar pusti.\"},\n",
    "    {\"text\": \"Zintara kovari pusto venami sinora.\"},\n",
    "    {\"text\": \"Tavari sentriko kamin valo nesti.\"},\n",
    "    {\"text\": \"Sindra molari vastina pota venito.\"},\n",
    "    {\"text\": \"Vintara zolik pinar solevi karana.\"},\n",
    "    {\"text\": \"Montari kivar lonte salvira poki.\"},\n",
    "    {\"text\": \"Kalvona mintra vitora zestro linar.\"},\n",
    "    {\"text\": \"Simora vatina korval senta loran.\"},\n",
    "    {\"text\": \"Varenta polina sakari montro veni.\"},\n",
    "    {\"text\": \"Prilan torvisto melar sintrova kani.\"},\n",
    "    {\"text\": \"Nastora vinkali torana kelvoti somar.\"},\n",
    "    {\"text\": \"Santara polvara minstri kovita jorano.\"},\n",
    "    {\"text\": \"Kelvora minstra pontri valoko sena.\"},\n",
    "    {\"text\": \"Zorika mantova selina kora vintari.\"}\n",
    "]\n",
    "\n",
    "dataset = Dataset.from_list(corpus)"
   ],
   "metadata": {
    "id": "jOmdwz2jTkBP"
   },
   "execution_count": 3,
   "outputs": []
  },
  {
   "cell_type": "code",
   "source": [
    "#4 Visualize corpus characteristics\n",
    "\n",
    "import matplotlib.pyplot as plt\n",
    "\n",
    "# Create a list of sentence lengths (number of words per sentence)\n",
    "sentence_lengths = [len(sentence['text'].split()) for sentence in corpus]\n",
    "\n",
    "# Plot histogram of sentence lengths\n",
    "plt.figure(figsize=(7, 4))\n",
    "plt.hist(sentence_lengths, bins=range(1, max(sentence_lengths)+2), color='mediumseagreen', edgecolor='black')\n",
    "plt.title('Distribution of Sentence Lengths in Fictional Low-Resource Corpus')\n",
    "plt.xlabel('Number of Words')\n",
    "plt.ylabel('Frequency')\n",
    "plt.grid(True)\n",
    "plt.show()\n",
    "\n",
    "# Show first few sentences nicely\n",
    "print(\"\\nSample Sentences from Corpus:\")\n",
    "for i, example in enumerate(corpus[:5], 1):\n",
    "    print(f\"{i}. {example['text']}\")"
   ],
   "metadata": {
    "colab": {
     "base_uri": "https://localhost:8080/",
     "height": 532
    },
    "id": "TA_qSHnsW4t9",
    "outputId": "b51080c0-1215-401c-99d6-2967499a183c"
   },
   "execution_count": 20,
   "outputs": [
    {
     "output_type": "display_data",
     "data": {
      "text/plain": [
       "<Figure size 700x400 with 1 Axes>"
      ],
      "image/png": "[encoded data removed]"
     },
     "metadata": {}
    },
    {
     "output_type": "stream",
     "name": "stdout",
     "text": [
      "\n",
      "Sample Sentences from Corpus:\n",
      "1. Sovari minta kalano vesti.\n",
      "2. Pravana torvik selomi vasti koran.\n",
      "3. Nokita valora sintra pavo venti.\n",
      "4. Lomari silvon ketra manar pusti.\n",
      "5. Zintara kovari pusto venami sinora.\n"
     ]
    }
   ]
  },
  {
   "cell_type": "code",
   "source": [
    "#5 Tokenize the fictional corpus\n",
    "def tokenize(example):\n",
    "    encoded = tokenizer(\n",
    "        example[\"text\"],\n",
    "        padding=\"max_length\",\n",
    "        truncation=True,\n",
    "        max_length=512\n",
    "    )\n",
    "    encoded[\"labels\"] = encoded[\"input_ids\"].copy()\n",
    "    return encoded\n",
    "\n",
    "tokenized_dataset = dataset.map(tokenize, remove_columns=[\"text\"])"
   ],
   "metadata": {
    "colab": {
     "base_uri": "https://localhost:8080/",
     "height": 49,
     "referenced_widgets": [
      "41e6a5e2dcf246bbac97186a5e5e8618",
      "81243b5bb5954432a1494042beff378c",
      "c31d1d582943436691b6d386e9880eeb",
      "e314e061b35441e69f9af182ab33e8a3",
      "c064b92e20ca41159b38e2c8c792a063",
      "15af273090e34a7e8dd7812f7b0785b0",
      "6f258599d7194416b60e0114e3098bb1",
      "7fb84407e3d04cb7ac35bad601bc800d",
      "bde8fb7946c34bc6bd035c052413ac3e",
      "b9e1466f70454c0d87b77dd508be3c19",
      "f2206cbd0cc74a61809748f887de3a08"
     ]
    },
    "id": "uAATYu_rUbXX",
    "outputId": "8105434c-4f0e-4a54-de5f-282c9b3aeb6c"
   },
   "execution_count": 4,
   "outputs": [
    {
     "output_type": "display_data",
     "data": {
      "text/plain": [
       "Map:   0%|          | 0/17 [00:00<?, ? examples/s]"
      ],
      "application/vnd.jupyter.widget-view+json": {
       "version_major": 2,
       "version_minor": 0,
       "model_id": "41e6a5e2dcf246bbac97186a5e5e8618"
      }
     },
     "metadata": {}
    }
   ]
  },
  {
   "cell_type": "code",
   "source": [
    "#6 Enable LoRA layers for efficient training\n",
    "FastLanguageModel.for_training(model, use_gradient_checkpointing=True)\n",
    "model = FastLanguageModel.get_peft_model(model)"
   ],
   "metadata": {
    "colab": {
     "base_uri": "https://localhost:8080/"
    },
    "id": "OpqCjZuQUbZ-",
    "outputId": "8253bee4-64bc-48e9-ce6c-91cbd615b43e"
   },
   "execution_count": 5,
   "outputs": [
    {
     "output_type": "stream",
     "name": "stderr",
     "text": [
      "Unsloth 2025.4.1 patched 22 layers with 22 QKV layers, 22 O layers and 22 MLP layers.\n"
     ]
    }
   ]
  },
  {
   "cell_type": "code",
   "source": [
    "#7 Define Huggingface TrainingArguments for quick training\n",
    "from transformers import TrainingArguments, Trainer, DataCollatorForLanguageModeling\n",
    "\n",
    "training_args = TrainingArguments(\n",
    "    output_dir=\"tinyllama_fictional_language_pretrain\",\n",
    "    per_device_train_batch_size=4,\n",
    "    gradient_accumulation_steps=2,\n",
    "    learning_rate=2e-4,\n",
    "    num_train_epochs=5,\n",
    "    max_steps=100,\n",
    "    logging_steps=10,\n",
    "    save_strategy=\"epoch\",\n",
    "    fp16=True,\n",
    "    remove_unused_columns=False,\n",
    ")\n",
    "\n",
    "trainer = Trainer(\n",
    "    model=model,\n",
    "    train_dataset=tokenized_dataset,\n",
    "    args=training_args,\n",
    "    data_collator=DataCollatorForLanguageModeling(tokenizer, mlm=False)\n",
    ")"
   ],
   "metadata": {
    "id": "KZY_Z5jJUbcu"
   },
   "execution_count": 11,
   "outputs": []
  },
  {
   "cell_type": "code",
   "source": [
    "#8 Start the pretraining process\n",
    "trainer.train()"
   ],
   "metadata": {
    "colab": {
     "base_uri": "https://localhost:8080/",
     "height": 510
    },
    "id": "LT1b9tJvTkEO",
    "outputId": "73acb04a-8c7e-439b-9e80-e4fbfc2438b2"
   },
   "execution_count": 12,
   "outputs": [
    {
     "output_type": "stream",
     "name": "stderr",
     "text": [
      "==((====))==  Unsloth - 2x faster free finetuning | Num GPUs used = 1\n",
      "   \\\\   /|    Num examples = 17 | Num Epochs = 50 | Total steps = 100\n",
      "O^O/ \\_/ \\    Batch size per device = 4 | Gradient accumulation steps = 2\n",
      "\\        /    Data Parallel GPUs = 1 | Total batch size (4 x 2 x 1) = 8\n",
      " \"-____-\"     Trainable parameters = 12,615,680/4,000,000,000 (0.32% trained)\n"
     ]
    },
    {
     "output_type": "display_data",
     "data": {
      "text/plain": [
       "<IPython.core.display.HTML object>"
      ],
      "text/html": [
       "\n",
       "    <div>\n",
       "      \n",
       "      <progress value='100' max='100' style='width:300px; height:20px; vertical-align: middle;'></progress>\n",
       "      [100/100 02:22, Epoch 33/50]\n",
       "    </div>\n",
       "    <table border=\"1\" class=\"dataframe\">\n",
       "  <thead>\n",
       " <tr style=\"text-align: left;\">\n",
       "      <th>Step</th>\n",
       "      <th>Training Loss</th>\n",
       "    </tr>\n",
       "  </thead>\n",
       "  <tbody>\n",
       "    <tr>\n",
       "      <td>10</td>\n",
       "      <td>4.107400</td>\n",
       "    </tr>\n",
       "    <tr>\n",
       "      <td>20</td>\n",
       "      <td>2.696500</td>\n",
       "    </tr>\n",
       "    <tr>\n",
       "      <td>30</td>\n",
       "      <td>1.569300</td>\n",
       "    </tr>\n",
       "    <tr>\n",
       "      <td>40</td>\n",
       "      <td>1.155800</td>\n",
       "    </tr>\n",
       "    <tr>\n",
       "      <td>50</td>\n",
       "      <td>0.798100</td>\n",
       "    </tr>\n",
       "    <tr>\n",
       "      <td>60</td>\n",
       "      <td>0.844900</td>\n",
       "    </tr>\n",
       "    <tr>\n",
       "      <td>70</td>\n",
       "      <td>0.530700</td>\n",
       "    </tr>\n",
       "    <tr>\n",
       "      <td>80</td>\n",
       "      <td>0.456800</td>\n",
       "    </tr>\n",
       "    <tr>\n",
       "      <td>90</td>\n",
       "      <td>0.369000</td>\n",
       "    </tr>\n",
       "    <tr>\n",
       "      <td>100</td>\n",
       "      <td>0.317400</td>\n",
       "    </tr>\n",
       "  </tbody>\n",
       "</table><p>"
      ]
     },
     "metadata": {}
    },
    {
     "output_type": "execute_result",
     "data": {
      "text/plain": [
       "TrainOutput(global_step=100, training_loss=1.2846011447906494, metrics={'train_runtime': 144.0071, 'train_samples_per_second': 5.555, 'train_steps_per_second': 0.694, 'total_flos': 1830346347773952.0, 'train_loss': 1.2846011447906494, 'epoch': 33.4})"
      ]
     },
     "metadata": {},
     "execution_count": 12
    }
   ]
  },
  {
   "cell_type": "code",
   "source": [
    "#9 Save model and tokenizer after continued pretraining\n",
    "model.save_pretrained(\"tinyllama_fictional_language_pretrain\")\n",
    "tokenizer.save_pretrained(\"tinyllama_fictional_language_pretrain\")"
   ],
   "metadata": {
    "colab": {
     "base_uri": "https://localhost:8080/"
    },
    "id": "whPlJRfKVCkr",
    "outputId": "20380a8b-4dfc-4444-96ba-ad6d96540d69"
   },
   "execution_count": 13,
   "outputs": [
    {
     "output_type": "execute_result",
     "data": {
      "text/plain": [
       "('tinyllama_fictional_language_pretrain/tokenizer_config.json',\n",
       " 'tinyllama_fictional_language_pretrain/special_tokens_map.json',\n",
       " 'tinyllama_fictional_language_pretrain/tokenizer.model',\n",
       " 'tinyllama_fictional_language_pretrain/added_tokens.json',\n",
       " 'tinyllama_fictional_language_pretrain/tokenizer.json')"
      ]
     },
     "metadata": {},
     "execution_count": 13
    }
   ]
  },
  {
   "cell_type": "code",
   "source": [
    "#10 Test model output after continued pretraining\n",
    "\n",
    "model.eval()\n",
    "\n",
    "test_prompt = \"Vintara solami ketro pano\"\n",
    "\n",
    "inputs = tokenizer(test_prompt, return_tensors=\"pt\").to(model.device)\n",
    "\n",
    "with torch.no_grad():\n",
    "    generated = model.generate(\n",
    "        **inputs,\n",
    "        max_new_tokens=60,\n",
    "        temperature=0.7,\n",
    "        top_p=0.9,\n",
    "        do_sample=True\n",
    "    )\n",
    "\n",
    "output_text = tokenizer.decode(generated[0], skip_special_tokens=True)\n",
    "print(\"Generated Sentence:\")\n",
    "print(output_text)"
   ],
   "metadata": {
    "colab": {
     "base_uri": "https://localhost:8080/"
    },
    "id": "keKiyKWiVCnh",
    "outputId": "dc659c72-0497-4624-ce90-727d987785fc"
   },
   "execution_count": 14,
   "outputs": [
    {
     "output_type": "stream",
     "name": "stdout",
     "text": [
      "Generated Sentence:\n",
      "Vintara solami ketro pano. Nostra nisi torquilum pano. Nostra nisi torquilum pano. Nostra nisi torquilum pano. Nostra nisi torquilum pano. Nostra nisi torquilum pano\n"
     ]
    }
   ]
  },
  {
   "cell_type": "code",
   "source": [
    "#11 Plot basic training loss if available\n",
    "import matplotlib.pyplot as plt\n",
    "\n",
    "# If trainer.state exists and has logs\n",
    "if hasattr(trainer.state, 'log_history'):\n",
    "    losses = []\n",
    "    steps = []\n",
    "\n",
    "    for log in trainer.state.log_history:\n",
    "        if 'loss' in log:\n",
    "            losses.append(log['loss'])\n",
    "            steps.append(log['step'])\n",
    "\n",
    "    plt.figure(figsize=(8, 5))\n",
    "    plt.plot(steps, losses, marker='o')\n",
    "    plt.xlabel('Training Steps')\n",
    "    plt.ylabel('Loss')\n",
    "    plt.title('Training Loss Curve')\n",
    "    plt.grid()\n",
    "    plt.show()\n",
    "else:\n",
    "    print(\"No training loss available to plot yet.\")"
   ],
   "metadata": {
    "colab": {
     "base_uri": "https://localhost:8080/",
     "height": 487
    },
    "id": "oPEQRGqkVCqV",
    "outputId": "f6ce651a-a4b7-432f-883f-3d613fd7440b"
   },
   "execution_count": 16,
   "outputs": [
    {
     "output_type": "display_data",
     "data": {
      "text/plain": [
       "<Figure size 800x500 with 1 Axes>"
      ],
      "image/png": "[encoded data removed]"
     },
     "metadata": {}
    }
   ]
  },
  {
   "cell_type": "code",
   "source": [
    "#12 Analyze tokenized input lengths\n",
    "input_lengths = [len(tokenizer(example['text'])['input_ids']) for example in corpus]\n",
    "\n",
    "plt.figure(figsize=(7, 4))\n",
    "plt.hist(input_lengths, bins=10, color='skyblue', edgecolor='black')\n",
    "plt.title(\"Token Length Distribution in Low-Resource Corpus\")\n",
    "plt.xlabel(\"Token Length\")\n",
    "plt.ylabel(\"Frequency\")\n",
    "plt.grid()\n",
    "plt.show()"
   ],
   "metadata": {
    "colab": {
     "base_uri": "https://localhost:8080/",
     "height": 410
    },
    "id": "s8VAfrYCWUQs",
    "outputId": "e0e710d2-abb8-4ca5-d8cf-382375d9e30c"
   },
   "execution_count": 17,
   "outputs": [
    {
     "output_type": "display_data",
     "data": {
      "text/plain": [
       "<Figure size 700x400 with 1 Axes>"
      ],
      "image/png": "[encoded data removed]"
     },
     "metadata": {}
    }
   ]
  },
  {
   "cell_type": "code",
   "source": [
    "#13 Test model on multiple fictional prompts\n",
    "model.eval()\n",
    "\n",
    "prompts = [\n",
    "    \"Vintara solami ketro pano\",\n",
    "    \"Sindra kelvoni vastino pravora\",\n",
    "    \"Tavora sintara minso kelro\",\n",
    "]\n",
    "\n",
    "for idx, p in enumerate(prompts, 1):\n",
    "    inputs = tokenizer(p, return_tensors=\"pt\").to(model.device)\n",
    "\n",
    "    with torch.no_grad():\n",
    "        outputs = model.generate(\n",
    "            **inputs,\n",
    "            max_new_tokens=50,\n",
    "            temperature=0.7,\n",
    "            top_p=0.9,\n",
    "            do_sample=True\n",
    "        )\n",
    "\n",
    "    decoded = tokenizer.decode(outputs[0], skip_special_tokens=True)\n",
    "    print(f\"\\nGenerated Text {idx}:\\n{decoded}\")"
   ],
   "metadata": {
    "colab": {
     "base_uri": "https://localhost:8080/"
    },
    "id": "Do5lzex-VCsy",
    "outputId": "56293978-4caf-4fe3-c7aa-1d3134f9ca08"
   },
   "execution_count": 18,
   "outputs": [
    {
     "output_type": "stream",
     "name": "stdout",
     "text": [
      "\n",
      "Generated Text 1:\n",
      "Vintara solami ketro pano mesta.\n",
      " Vintara solami ketro pano mesta.\n",
      " Vintara solami ketro pano mesta.\n",
      " Vintara solami ketro pano mesta.\n",
      " Vintara solami ketro\n",
      "\n",
      "Generated Text 2:\n",
      "Sindra kelvoni vastino pravora.\n",
      "\n",
      "Izvori:\n",
      "- Pravora kelvoni vra\u017ea\n",
      "- Vratnica kelvoni vra\u017ea\n",
      "- Vratnica kelvoni vra\u017ea\n",
      "- V\n",
      "\n",
      "Generated Text 3:\n",
      "Tavora sintara minso kelro.\n",
      "Sintara kelro. Tavora minso kelro.\n",
      "Tavora kelro. Minso kelro. Sintara minso kelro.\n",
      "Minso kelro. Sintara k\n"
     ]
    }
   ]
  },
  {
   "cell_type": "code",
   "source": [
    "from tabulate import tabulate\n",
    "\n",
    "data = [\n",
    "    [\"Fictional Sentence\", \"English Translation\"],\n",
    "    [\"Sovari minta kalano vesti.\", \"The brave warrior protects the village.\"],\n",
    "    [\"Pravana torvik selomi vasti koran.\", \"The traveler journeys across distant lands.\"],\n",
    "    [\"Nokita valora sintra pavo venti.\", \"A peaceful bird sings at dawn.\"],\n",
    "    [\"Lomari silvon ketra manar pusti.\", \"The ancient tree holds the spirit of life.\"],\n",
    "    [\"Zintara kovari pusto venami sinora.\", \"The golden river flows beyond the hills.\"],\n",
    "    [\"Tavari sentriko kamin valo nesti.\", \"The wise leader builds a strong future.\"],\n",
    "    [\"Sindra molari vastina pota venito.\", \"Children laugh as the rain touches the earth.\"],\n",
    "    [\"Vintara zolik pinar solevi karana.\", \"The bright stars guide the wanderers at night.\"],\n",
    "    [\"Montari kivar lonte salvira poki.\", \"The mountain paths hide many secrets.\"],\n",
    "    [\"Kalvona mintra vitora zestro linar.\", \"The cold wind carries the whisper of the forest.\"],\n",
    "    [\"Simora vatina korval senta loran.\", \"The swift river dances over stones.\"],\n",
    "    [\"Varenta polina sakari montro veni.\", \"Farmers gather the harvest under a red sky.\"],\n",
    "    [\"Prilan torvisto melar sintrova kani.\", \"Ancient songs echo through forgotten valleys.\"],\n",
    "    [\"Nastora vinkali torana kelvoti somar.\", \"The warrior's blade shines in the sunlight.\"],\n",
    "    [\"Santara polvara minstri kovita jorano.\", \"The peaceful villages thrive in unity.\"],\n",
    "    [\"Kelvora minstra pontri valoko sena.\", \"The guardian watches over sacred grounds.\"],\n",
    "    [\"Zorika mantova selina kora vintari.\", \"The moon's glow blesses the midnight forest.\"]\n",
    "]\n",
    "\n",
    "# Print nicely formatted table\n",
    "print(tabulate(data, headers=\"firstrow\", tablefmt=\"pretty\"))"
   ],
   "metadata": {
    "colab": {
     "base_uri": "https://localhost:8080/"
    },
    "id": "MHBIce-8YBs3",
    "outputId": "caceefbc-92da-4139-ea8e-cb7407b674c0"
   },
   "execution_count": 21,
   "outputs": [
    {
     "output_type": "stream",
     "name": "stdout",
     "text": [
      "+----------------------------------------+--------------------------------------------------+\n",
      "|           Fictional Sentence           |               English Translation                |\n",
      "+----------------------------------------+--------------------------------------------------+\n",
      "|       Sovari minta kalano vesti.       |     The brave warrior protects the village.      |\n",
      "|   Pravana torvik selomi vasti koran.   |   The traveler journeys across distant lands.    |\n",
      "|    Nokita valora sintra pavo venti.    |          A peaceful bird sings at dawn.          |\n",
      "|    Lomari silvon ketra manar pusti.    |    The ancient tree holds the spirit of life.    |\n",
      "|  Zintara kovari pusto venami sinora.   |     The golden river flows beyond the hills.     |\n",
      "|   Tavari sentriko kamin valo nesti.    |     The wise leader builds a strong future.      |\n",
      "|   Sindra molari vastina pota venito.   |  Children laugh as the rain touches the earth.   |\n",
      "|   Vintara zolik pinar solevi karana.   |  The bright stars guide the wanderers at night.  |\n",
      "|   Montari kivar lonte salvira poki.    |      The mountain paths hide many secrets.       |\n",
      "|  Kalvona mintra vitora zestro linar.   | The cold wind carries the whisper of the forest. |\n",
      "|   Simora vatina korval senta loran.    |       The swift river dances over stones.        |\n",
      "|   Varenta polina sakari montro veni.   |   Farmers gather the harvest under a red sky.    |\n",
      "|  Prilan torvisto melar sintrova kani.  |  Ancient songs echo through forgotten valleys.   |\n",
      "| Nastora vinkali torana kelvoti somar.  |   The warrior's blade shines in the sunlight.    |\n",
      "| Santara polvara minstri kovita jorano. |      The peaceful villages thrive in unity.      |\n",
      "|  Kelvora minstra pontri valoko sena.   |    The guardian watches over sacred grounds.     |\n",
      "|  Zorika mantova selina kora vintari.   |   The moon's glow blesses the midnight forest.   |\n",
      "+----------------------------------------+--------------------------------------------------+\n"
     ]
    }
   ]
  }
 ]
}