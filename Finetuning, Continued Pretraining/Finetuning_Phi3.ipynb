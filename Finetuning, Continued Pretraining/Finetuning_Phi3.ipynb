{
 "nbformat": 4,
 "nbformat_minor": 0,
 "metadata": {
  "colab": {
   "provenance": [],
   "gpuType": "T4"
  },
  "kernelspec": {
   "name": "python3",
   "display_name": "Python 3"
  },
  "language_info": {
   "name": "python"
  },
  "accelerator": "GPU"
 },
 "cells": [
  {
   "cell_type": "markdown",
   "source": [
    "<a href=\"https://colab.research.google.com/drive/1vUSgzd9YINzdIAdJVQjZSiKeOUAFCbp1?usp=sharing\" target=\"_blank\">\n",
    "  <img src=\"https://colab.research.google.com/assets/colab-badge.svg\" alt=\"Open in Colab\"/>\n",
    "</a>"
   ],
   "metadata": {
    "id": "Yqsc3GPliJN2"
   }
  },
  {
   "cell_type": "code",
   "execution_count": 1,
   "metadata": {
    "colab": {
     "base_uri": "https://localhost:8080/"
    },
    "id": "NiVMU1MOd67u",
    "outputId": "dc9b65a6-cb50-4324-bd70-d894dcfe7c7f"
   },
   "outputs": [
    {
     "output_type": "stream",
     "name": "stdout",
     "text": [
      "\u001b[2K     \u001b[90m\u2501\u2501\u2501\u2501\u2501\u2501\u2501\u2501\u2501\u2501\u2501\u2501\u2501\u2501\u2501\u2501\u2501\u2501\u2501\u2501\u2501\u2501\u2501\u2501\u2501\u2501\u2501\u2501\u2501\u2501\u2501\u2501\u2501\u2501\u2501\u2501\u2501\u2501\u2501\u2501\u001b[0m \u001b[32m46.4/46.4 kB\u001b[0m \u001b[31m2.3 MB/s\u001b[0m eta \u001b[36m0:00:00\u001b[0m\n",
      "\u001b[2K   \u001b[90m\u2501\u2501\u2501\u2501\u2501\u2501\u2501\u2501\u2501\u2501\u2501\u2501\u2501\u2501\u2501\u2501\u2501\u2501\u2501\u2501\u2501\u2501\u2501\u2501\u2501\u2501\u2501\u2501\u2501\u2501\u2501\u2501\u2501\u2501\u2501\u2501\u2501\u2501\u2501\u2501\u001b[0m \u001b[32m193.2/193.2 kB\u001b[0m \u001b[31m8.5 MB/s\u001b[0m eta \u001b[36m0:00:00\u001b[0m\n",
      "\u001b[2K   \u001b[90m\u2501\u2501\u2501\u2501\u2501\u2501\u2501\u2501\u2501\u2501\u2501\u2501\u2501\u2501\u2501\u2501\u2501\u2501\u2501\u2501\u2501\u2501\u2501\u2501\u2501\u2501\u2501\u2501\u2501\u2501\u2501\u2501\u2501\u2501\u2501\u2501\u2501\u2501\u2501\u2501\u001b[0m \u001b[32m363.4/363.4 MB\u001b[0m \u001b[31m4.1 MB/s\u001b[0m eta \u001b[36m0:00:00\u001b[0m\n",
      "\u001b[2K   \u001b[90m\u2501\u2501\u2501\u2501\u2501\u2501\u2501\u2501\u2501\u2501\u2501\u2501\u2501\u2501\u2501\u2501\u2501\u2501\u2501\u2501\u2501\u2501\u2501\u2501\u2501\u2501\u2501\u2501\u2501\u2501\u2501\u2501\u2501\u2501\u2501\u2501\u2501\u2501\u2501\u2501\u001b[0m \u001b[32m13.8/13.8 MB\u001b[0m \u001b[31m126.2 MB/s\u001b[0m eta \u001b[36m0:00:00\u001b[0m\n",
      "\u001b[2K   \u001b[90m\u2501\u2501\u2501\u2501\u2501\u2501\u2501\u2501\u2501\u2501\u2501\u2501\u2501\u2501\u2501\u2501\u2501\u2501\u2501\u2501\u2501\u2501\u2501\u2501\u2501\u2501\u2501\u2501\u2501\u2501\u2501\u2501\u2501\u2501\u2501\u2501\u2501\u2501\u2501\u2501\u001b[0m \u001b[32m24.6/24.6 MB\u001b[0m \u001b[31m94.9 MB/s\u001b[0m eta \u001b[36m0:00:00\u001b[0m\n",
      "\u001b[2K   \u001b[90m\u2501\u2501\u2501\u2501\u2501\u2501\u2501\u2501\u2501\u2501\u2501\u2501\u2501\u2501\u2501\u2501\u2501\u2501\u2501\u2501\u2501\u2501\u2501\u2501\u2501\u2501\u2501\u2501\u2501\u2501\u2501\u2501\u2501\u2501\u2501\u2501\u2501\u2501\u2501\u2501\u001b[0m \u001b[32m883.7/883.7 kB\u001b[0m \u001b[31m59.3 MB/s\u001b[0m eta \u001b[36m0:00:00\u001b[0m\n",
      "\u001b[2K   \u001b[90m\u2501\u2501\u2501\u2501\u2501\u2501\u2501\u2501\u2501\u2501\u2501\u2501\u2501\u2501\u2501\u2501\u2501\u2501\u2501\u2501\u2501\u2501\u2501\u2501\u2501\u2501\u2501\u2501\u2501\u2501\u2501\u2501\u2501\u2501\u2501\u2501\u2501\u2501\u2501\u2501\u001b[0m \u001b[32m664.8/664.8 MB\u001b[0m \u001b[31m2.0 MB/s\u001b[0m eta \u001b[36m0:00:00\u001b[0m\n",
      "\u001b[2K   \u001b[90m\u2501\u2501\u2501\u2501\u2501\u2501\u2501\u2501\u2501\u2501\u2501\u2501\u2501\u2501\u2501\u2501\u2501\u2501\u2501\u2501\u2501\u2501\u2501\u2501\u2501\u2501\u2501\u2501\u2501\u2501\u2501\u2501\u2501\u2501\u2501\u2501\u2501\u2501\u2501\u2501\u001b[0m \u001b[32m211.5/211.5 MB\u001b[0m \u001b[31m6.0 MB/s\u001b[0m eta \u001b[36m0:00:00\u001b[0m\n",
      "\u001b[2K   \u001b[90m\u2501\u2501\u2501\u2501\u2501\u2501\u2501\u2501\u2501\u2501\u2501\u2501\u2501\u2501\u2501\u2501\u2501\u2501\u2501\u2501\u2501\u2501\u2501\u2501\u2501\u2501\u2501\u2501\u2501\u2501\u2501\u2501\u2501\u2501\u2501\u2501\u2501\u2501\u2501\u2501\u001b[0m \u001b[32m56.3/56.3 MB\u001b[0m \u001b[31m13.2 MB/s\u001b[0m eta \u001b[36m0:00:00\u001b[0m\n",
      "\u001b[2K   \u001b[90m\u2501\u2501\u2501\u2501\u2501\u2501\u2501\u2501\u2501\u2501\u2501\u2501\u2501\u2501\u2501\u2501\u2501\u2501\u2501\u2501\u2501\u2501\u2501\u2501\u2501\u2501\u2501\u2501\u2501\u2501\u2501\u2501\u2501\u2501\u2501\u2501\u2501\u2501\u2501\u2501\u001b[0m \u001b[32m127.9/127.9 MB\u001b[0m \u001b[31m7.8 MB/s\u001b[0m eta \u001b[36m0:00:00\u001b[0m\n",
      "\u001b[2K   \u001b[90m\u2501\u2501\u2501\u2501\u2501\u2501\u2501\u2501\u2501\u2501\u2501\u2501\u2501\u2501\u2501\u2501\u2501\u2501\u2501\u2501\u2501\u2501\u2501\u2501\u2501\u2501\u2501\u2501\u2501\u2501\u2501\u2501\u2501\u2501\u2501\u2501\u2501\u2501\u2501\u2501\u001b[0m \u001b[32m207.5/207.5 MB\u001b[0m \u001b[31m6.2 MB/s\u001b[0m eta \u001b[36m0:00:00\u001b[0m\n",
      "\u001b[2K   \u001b[90m\u2501\u2501\u2501\u2501\u2501\u2501\u2501\u2501\u2501\u2501\u2501\u2501\u2501\u2501\u2501\u2501\u2501\u2501\u2501\u2501\u2501\u2501\u2501\u2501\u2501\u2501\u2501\u2501\u2501\u2501\u2501\u2501\u2501\u2501\u2501\u2501\u2501\u2501\u2501\u2501\u001b[0m \u001b[32m21.1/21.1 MB\u001b[0m \u001b[31m74.8 MB/s\u001b[0m eta \u001b[36m0:00:00\u001b[0m\n",
      "\u001b[2K   \u001b[90m\u2501\u2501\u2501\u2501\u2501\u2501\u2501\u2501\u2501\u2501\u2501\u2501\u2501\u2501\u2501\u2501\u2501\u2501\u2501\u2501\u2501\u2501\u2501\u2501\u2501\u2501\u2501\u2501\u2501\u2501\u2501\u2501\u2501\u2501\u2501\u2501\u2501\u2501\u2501\u2501\u001b[0m \u001b[32m491.2/491.2 kB\u001b[0m \u001b[31m33.0 MB/s\u001b[0m eta \u001b[36m0:00:00\u001b[0m\n",
      "\u001b[2K   \u001b[90m\u2501\u2501\u2501\u2501\u2501\u2501\u2501\u2501\u2501\u2501\u2501\u2501\u2501\u2501\u2501\u2501\u2501\u2501\u2501\u2501\u2501\u2501\u2501\u2501\u2501\u2501\u2501\u2501\u2501\u2501\u2501\u2501\u2501\u2501\u2501\u2501\u2501\u2501\u2501\u2501\u001b[0m \u001b[32m76.1/76.1 MB\u001b[0m \u001b[31m9.7 MB/s\u001b[0m eta \u001b[36m0:00:00\u001b[0m\n",
      "\u001b[2K   \u001b[90m\u2501\u2501\u2501\u2501\u2501\u2501\u2501\u2501\u2501\u2501\u2501\u2501\u2501\u2501\u2501\u2501\u2501\u2501\u2501\u2501\u2501\u2501\u2501\u2501\u2501\u2501\u2501\u2501\u2501\u2501\u2501\u2501\u2501\u2501\u2501\u2501\u2501\u2501\u2501\u2501\u001b[0m \u001b[32m116.3/116.3 kB\u001b[0m \u001b[31m11.3 MB/s\u001b[0m eta \u001b[36m0:00:00\u001b[0m\n",
      "\u001b[2K   \u001b[90m\u2501\u2501\u2501\u2501\u2501\u2501\u2501\u2501\u2501\u2501\u2501\u2501\u2501\u2501\u2501\u2501\u2501\u2501\u2501\u2501\u2501\u2501\u2501\u2501\u2501\u2501\u2501\u2501\u2501\u2501\u2501\u2501\u2501\u2501\u2501\u2501\u2501\u2501\u2501\u2501\u001b[0m \u001b[32m183.9/183.9 kB\u001b[0m \u001b[31m17.5 MB/s\u001b[0m eta \u001b[36m0:00:00\u001b[0m\n",
      "\u001b[2K   \u001b[90m\u2501\u2501\u2501\u2501\u2501\u2501\u2501\u2501\u2501\u2501\u2501\u2501\u2501\u2501\u2501\u2501\u2501\u2501\u2501\u2501\u2501\u2501\u2501\u2501\u2501\u2501\u2501\u2501\u2501\u2501\u2501\u2501\u2501\u2501\u2501\u2501\u2501\u2501\u2501\u2501\u001b[0m \u001b[32m143.5/143.5 kB\u001b[0m \u001b[31m14.2 MB/s\u001b[0m eta \u001b[36m0:00:00\u001b[0m\n",
      "\u001b[2K   \u001b[90m\u2501\u2501\u2501\u2501\u2501\u2501\u2501\u2501\u2501\u2501\u2501\u2501\u2501\u2501\u2501\u2501\u2501\u2501\u2501\u2501\u2501\u2501\u2501\u2501\u2501\u2501\u2501\u2501\u2501\u2501\u2501\u2501\u2501\u2501\u2501\u2501\u2501\u2501\u2501\u2501\u001b[0m \u001b[32m162.1/162.1 kB\u001b[0m \u001b[31m15.0 MB/s\u001b[0m eta \u001b[36m0:00:00\u001b[0m\n",
      "\u001b[2K   \u001b[90m\u2501\u2501\u2501\u2501\u2501\u2501\u2501\u2501\u2501\u2501\u2501\u2501\u2501\u2501\u2501\u2501\u2501\u2501\u2501\u2501\u2501\u2501\u2501\u2501\u2501\u2501\u2501\u2501\u2501\u2501\u2501\u2501\u2501\u2501\u2501\u2501\u2501\u2501\u2501\u2501\u001b[0m \u001b[32m318.9/318.9 kB\u001b[0m \u001b[31m28.3 MB/s\u001b[0m eta \u001b[36m0:00:00\u001b[0m\n",
      "\u001b[2K   \u001b[90m\u2501\u2501\u2501\u2501\u2501\u2501\u2501\u2501\u2501\u2501\u2501\u2501\u2501\u2501\u2501\u2501\u2501\u2501\u2501\u2501\u2501\u2501\u2501\u2501\u2501\u2501\u2501\u2501\u2501\u2501\u2501\u2501\u2501\u2501\u2501\u2501\u2501\u2501\u2501\u2501\u001b[0m \u001b[32m128.9/128.9 kB\u001b[0m \u001b[31m12.6 MB/s\u001b[0m eta \u001b[36m0:00:00\u001b[0m\n",
      "\u001b[2K   \u001b[90m\u2501\u2501\u2501\u2501\u2501\u2501\u2501\u2501\u2501\u2501\u2501\u2501\u2501\u2501\u2501\u2501\u2501\u2501\u2501\u2501\u2501\u2501\u2501\u2501\u2501\u2501\u2501\u2501\u2501\u2501\u2501\u2501\u2501\u2501\u2501\u2501\u2501\u2501\u2501\u2501\u001b[0m \u001b[32m43.4/43.4 MB\u001b[0m \u001b[31m18.1 MB/s\u001b[0m eta \u001b[36m0:00:00\u001b[0m\n",
      "\u001b[2K   \u001b[90m\u2501\u2501\u2501\u2501\u2501\u2501\u2501\u2501\u2501\u2501\u2501\u2501\u2501\u2501\u2501\u2501\u2501\u2501\u2501\u2501\u2501\u2501\u2501\u2501\u2501\u2501\u2501\u2501\u2501\u2501\u2501\u2501\u2501\u2501\u2501\u2501\u2501\u2501\u2501\u2501\u001b[0m \u001b[32m3.6/3.6 MB\u001b[0m \u001b[31m81.8 MB/s\u001b[0m eta \u001b[36m0:00:00\u001b[0m\n",
      "\u001b[2K   \u001b[90m\u2501\u2501\u2501\u2501\u2501\u2501\u2501\u2501\u2501\u2501\u2501\u2501\u2501\u2501\u2501\u2501\u2501\u2501\u2501\u2501\u2501\u2501\u2501\u2501\u2501\u2501\u2501\u2501\u2501\u2501\u2501\u2501\u2501\u2501\u2501\u2501\u2501\u2501\u2501\u2501\u001b[0m \u001b[32m124.3/124.3 kB\u001b[0m \u001b[31m11.2 MB/s\u001b[0m eta \u001b[36m0:00:00\u001b[0m\n",
      "\u001b[2K   \u001b[90m\u2501\u2501\u2501\u2501\u2501\u2501\u2501\u2501\u2501\u2501\u2501\u2501\u2501\u2501\u2501\u2501\u2501\u2501\u2501\u2501\u2501\u2501\u2501\u2501\u2501\u2501\u2501\u2501\u2501\u2501\u2501\u2501\u2501\u2501\u2501\u2501\u2501\u2501\u2501\u2501\u001b[0m \u001b[32m194.8/194.8 kB\u001b[0m \u001b[31m17.2 MB/s\u001b[0m eta \u001b[36m0:00:00\u001b[0m\n",
      "\u001b[?25h\u001b[31mERROR: pip's dependency resolver does not currently take into account all the packages that are installed. This behaviour is the source of the following dependency conflicts.\n",
      "tensorflow-metadata 1.17.1 requires protobuf<6.0.0,>=4.25.2; python_version >= \"3.11\", but you have protobuf 3.20.3 which is incompatible.\n",
      "grpcio-status 1.71.0 requires protobuf<6.0dev,>=5.26.1, but you have protobuf 3.20.3 which is incompatible.\n",
      "ydf 0.11.0 requires protobuf<6.0.0,>=5.29.1, but you have protobuf 3.20.3 which is incompatible.\n",
      "gcsfs 2025.3.2 requires fsspec==2025.3.2, but you have fsspec 2024.12.0 which is incompatible.\u001b[0m\u001b[31m\n",
      "\u001b[0m"
     ]
    }
   ],
   "source": [
    "#1: Install libraries needed for finetuning\n",
    "!pip install -q unsloth \"torch>=2.1\" transformers accelerate peft datasets bitsandbytes\n",
    "!pip install -q trl"
   ]
  },
  {
   "cell_type": "code",
   "source": [
    "#2: Load Phi-3 (medium) model with Unsloth + 4bit quantization\n",
    "import torch\n",
    "from unsloth import FastLanguageModel\n",
    "\n",
    "model, tokenizer = FastLanguageModel.from_pretrained(\n",
    "    model_name=\"microsoft/phi-2\",    # Using Phi-2 because Phi-3 is restricted, Phi-2 is public and similar size (~2.7B)\n",
    "    max_seq_length=2048,\n",
    "    dtype=torch.float16,\n",
    "    load_in_4bit=True,\n",
    ")\n",
    "\n",
    "model = FastLanguageModel.get_peft_model(\n",
    "    model,\n",
    "    r=16,\n",
    "    lora_alpha=32,\n",
    "    target_modules=[\"q_proj\", \"k_proj\", \"v_proj\", \"o_proj\"],\n",
    "    lora_dropout=0.05,\n",
    "    bias=\"none\",\n",
    "    use_gradient_checkpointing=True,\n",
    "    random_state=42,\n",
    "    use_rslora=False,\n",
    ")"
   ],
   "metadata": {
    "colab": {
     "base_uri": "https://localhost:8080/",
     "height": 560,
     "referenced_widgets": [
      "167d95d82b8746cb84f3122396a38493",
      "393b8477ad394302bee62e1aa2a70199",
      "0f5f7da24068489aba0363beff8a2193",
      "a7642bafacc948daae74251a7733e3e7",
      "5212ad0617364094b7bfeb375acbd803",
      "86591582087a4c38b12f75baf077ae5e",
      "c94e8e6675a74eba8c72b326e6736cdd",
      "e92413b3dcf1472da52d238041e06736",
      "68ea63b20a3e42b8a68784e80f2d324f",
      "8ef225aaa9ab44bd894f9d44cce39e2c",
      "d1fa83db33c94faca8093daf042c9212",
      "35dc1332e5a8458582405ec109aca5f7",
      "a7fab528e1e244129436e780de51eccc",
      "a4249e3a0949473ab99af848dd4c1c50",
      "e0ab622a99aa4d65871ae368ec6d6569",
      "b821d0180aee46a0a4ae88c12e4773b3",
      "ee2be9fa9f284dca9627f51f32cc1226",
      "d7eefad3de924231a47baecae946183c",
      "c1e9b7a8a3104e4899e4118e2c19b0f5",
      "68723b69440d4d0a9e4e234e8039e5f3",
      "26cd41c11d884308b8dfeab3fe669118",
      "55fc7af3c686453b91da29e7d6f7614d",
      "f1c0fbc126e7480fbc7fa007489ab7e7",
      "3e16ecc175404c2482a6bd6d5ff73073",
      "bc95cdf655c04a4cbbb5ceae1ff8e028",
      "3f267bce84fe413b8333b3856a3eb5a4",
      "dbc6716c07814344b88862d986bfda21",
      "21c851812d3941d6aa447d002ec2fba8",
      "aacd32a01ca24594b7392feb8a212a60",
      "7f8e1e62fabe4418801ddbcc2e45ed4e",
      "d41484a1e95d4b559094f6237280110e",
      "592608c9a8c04690b4aa36b4e0ba5127",
      "1ee79a625f274d4daa990ac6bbffd7a9",
      "aa4658e4113d47b1aa41a93851de500e",
      "ccfcb62a63794a40909713a59282d512",
      "25d696cbaa82404b8b839ba290d9f6fd",
      "2d28bb43df5b4584b409f417c13edf86",
      "9d8adbec32c442f1880aa055350f0250",
      "d95d117449644f9e82d555af33d0a1f8",
      "63cdc65282d848ed9357bb6a628b5c07",
      "b8916ff57a294a2ab357dd4d311e708d",
      "c72d762a51c54579b674d5a8d287ffad",
      "621f266055fb4f6d8a938465049b71b7",
      "f9f154fa65ad4598bfe887533dce331b",
      "dc3171ab8b144b3baecd07a7a21d2246",
      "af67e971a85144ba96ab7e18a6616240",
      "9c9fb75f29c94350bc775ed5cf41ff79",
      "c9a64e4c888b405cb364623c1f0288c2",
      "a2a50ff1d7e7480883b832fdd06d54d0",
      "c0f8f0ba65084a48b97f1a188024d0ac",
      "c22b518971d54b6ba19b2b23bf58a14b",
      "7cd5433d37924773a3da0acb21674a86",
      "c71eb44b04b847e6a36e554e7d3bb483",
      "defe61a48c4d43d18f8de3582dc0e8df",
      "04e7c129ebfd4494ba18daf3a3aa2462",
      "0012afc3106b4e1d8c70eaf34060f1b3",
      "7776a4a7282f44719b14378da116dab0",
      "a6d655bb9ae84587bfca31b7ba005bcf",
      "402453cc1307413084f181306f383081",
      "bcad5ec40ee847a49dc2dbe09ff8ff39",
      "94736a5b67af4c9c8587764701d4214b",
      "87d3706fdabc4730a3c9520f90fdb144",
      "791decfff3d74c4aa7afc00cf5ddb4ca",
      "2c7216423432423ea455ea89900d06c9",
      "ba735e508a564ee38e807579ca3724c4",
      "ef6178ecf6b04d36917e89fce507f7f5",
      "07e83966f1894b7cac37980a19fecb14",
      "efc5edbf60784a1d8a2141956a5c65ac",
      "cb9926cdf91b4d6dbee31d8de8d878ca",
      "fce0ab9cfafd49dc9fdff71529ef4c9e",
      "30945cf9c30348a0a12b3149488af50e",
      "53ee7dc0fba547da87e482a9184fe695",
      "3060dc05591a4097a0771b5146a61a35",
      "f3712fd4df2540028c74f054688dd34f",
      "1c192b0143c94fb28f9345e788119b95",
      "0720199e68e84484843ea998b2dd94a4",
      "90012162aa2d44cf8af518346a2f62bd",
      "2913793d08044a6194adccad7eecc384",
      "c7cafa9e494a4dfb8cb429947804c643",
      "73bbfa3d07964362ad195f825187ed4d",
      "d3b31268381547f2a5549bdf1d463e89",
      "2d50dd198e494cf4baad2340dd125907",
      "cdac73b29d634f918949c7c43ffe898c",
      "51d7894edc774866aa5dc4c9b9968204",
      "95ed8896dc2e4f8ab37e22fcb7e8a42b",
      "672241e4d38d4a37987d1cbb5894aa14",
      "a429acc2834d4d33828f4029e6ee7594",
      "ebf6b0c7c6bc4932bda20cdd0ba5d4bb",
      "4f9489e0e6e34da5a3e75c55553677f4",
      "f8cd7835ebf54beba730055dd4ed5e37",
      "374e2eab33c245c69f2831683996f9a1",
      "baff5f06adc541c9824243a0320074a1",
      "6a0fda7ef67540efb3aa8adf96916224",
      "af1d382dafac4aa7af0c898603a40ab1",
      "dbe36cab95fd40e5978134f4721be160",
      "20d4cb2b77294f6e8893d95a5241c284",
      "a63884b5c55448f898f429a28ea062ce",
      "1eaaadee7b8f4082b2c9c5bd49637e13",
      "e31b0d7343fc4258abeadbf7a5c64d9c",
      "e2d9a6b3fb74403ba00ae3b58a36282f",
      "d7385a3319bb44bb8b8d2461daffdb68",
      "1e8c30c7d30f42a78e2581677b952335",
      "a29c426addb64512a57eda13a7ba3300",
      "72c0227ad1974725996c3586f0517580",
      "3835dccc1f9342378c0f51953edeeea1",
      "54d1975e7abf4126bc9622fbcdc21687",
      "9fdf56e7e7614d589aa1ff481280443d",
      "c339a51437244199b7c12b62e78f7007",
      "891fa24493014e3bbb9469ed8812564d",
      "2d8ed96d48db46aaaddf846a7387b56b",
      "067870554c6c4e38b73ef30126af4476",
      "e4948b3573a44dd0888aaa1cb6a37eb9",
      "43c209307cea4dd3b0e6c465baf5b8bd",
      "861c75aaa98e4d12a581d96a7f5f901a",
      "18ce095726804734929d28c123bcc310",
      "10fadc5644774d61be9fe26509d88ef6",
      "155bf8bc1cf0477a9e3234242c698b9b",
      "221c491907bb4478885b91ea9b153792",
      "18f7bb90d92345eea9f6bd67f43db665",
      "4ade12443d6f4c2698951d9ba30cd8d0",
      "077adddc5b6c4f6aafeea87cb91e242d"
     ]
    },
    "id": "Iy0_itxxecJl",
    "outputId": "3270c7cd-d4ae-484a-b141-20c4750b56d1"
   },
   "execution_count": 2,
   "outputs": [
    {
     "output_type": "stream",
     "name": "stdout",
     "text": [
      "\ud83e\udda5 Unsloth: Will patch your computer to enable 2x faster free finetuning.\n",
      "Unsloth: Failed to patch SmolVLMForConditionalGeneration forward function.\n",
      "\ud83e\udda5 Unsloth Zoo will now patch everything to make training faster!\n",
      "==((====))==  Unsloth 2025.4.1: Fast Phi patching. Transformers: 4.51.3.\n",
      "   \\\\   /|    Tesla T4. Num GPUs = 1. Max memory: 14.741 GB. Platform: Linux.\n",
      "O^O/ \\_/ \\    Torch: 2.6.0+cu124. CUDA: 7.5. CUDA Toolkit: 12.4. Triton: 3.2.0\n",
      "\\        /    Bfloat16 = FALSE. FA [Xformers = 0.0.29.post3. FA2 = False]\n",
      " \"-____-\"     Free license: http://github.com/unslothai/unsloth\n",
      "Unsloth: Fast downloading is enabled - ignore downloading bars which are red colored!\n"
     ]
    },
    {
     "output_type": "display_data",
     "data": {
      "text/plain": [
       "model.safetensors.index.json:   0%|          | 0.00/35.7k [00:00<?, ?B/s]"
      ],
      "application/vnd.jupyter.widget-view+json": {
       "version_major": 2,
       "version_minor": 0,
       "model_id": "167d95d82b8746cb84f3122396a38493"
      }
     },
     "metadata": {}
    },
    {
     "output_type": "display_data",
     "data": {
      "text/plain": [
       "model-00001-of-00002.safetensors:   0%|          | 0.00/5.00G [00:00<?, ?B/s]"
      ],
      "application/vnd.jupyter.widget-view+json": {
       "version_major": 2,
       "version_minor": 0,
       "model_id": "35dc1332e5a8458582405ec109aca5f7"
      }
     },
     "metadata": {}
    },
    {
     "output_type": "display_data",
     "data": {
      "text/plain": [
       "model-00002-of-00002.safetensors:   0%|          | 0.00/564M [00:00<?, ?B/s]"
      ],
      "application/vnd.jupyter.widget-view+json": {
       "version_major": 2,
       "version_minor": 0,
       "model_id": "f1c0fbc126e7480fbc7fa007489ab7e7"
      }
     },
     "metadata": {}
    },
    {
     "output_type": "display_data",
     "data": {
      "text/plain": [
       "Loading checkpoint shards:   0%|          | 0/2 [00:00<?, ?it/s]"
      ],
      "application/vnd.jupyter.widget-view+json": {
       "version_major": 2,
       "version_minor": 0,
       "model_id": "aa4658e4113d47b1aa41a93851de500e"
      }
     },
     "metadata": {}
    },
    {
     "output_type": "display_data",
     "data": {
      "text/plain": [
       "generation_config.json:   0%|          | 0.00/124 [00:00<?, ?B/s]"
      ],
      "application/vnd.jupyter.widget-view+json": {
       "version_major": 2,
       "version_minor": 0,
       "model_id": "dc3171ab8b144b3baecd07a7a21d2246"
      }
     },
     "metadata": {}
    },
    {
     "output_type": "display_data",
     "data": {
      "text/plain": [
       "tokenizer_config.json:   0%|          | 0.00/7.34k [00:00<?, ?B/s]"
      ],
      "application/vnd.jupyter.widget-view+json": {
       "version_major": 2,
       "version_minor": 0,
       "model_id": "0012afc3106b4e1d8c70eaf34060f1b3"
      }
     },
     "metadata": {}
    },
    {
     "output_type": "display_data",
     "data": {
      "text/plain": [
       "vocab.json:   0%|          | 0.00/798k [00:00<?, ?B/s]"
      ],
      "application/vnd.jupyter.widget-view+json": {
       "version_major": 2,
       "version_minor": 0,
       "model_id": "07e83966f1894b7cac37980a19fecb14"
      }
     },
     "metadata": {}
    },
    {
     "output_type": "display_data",
     "data": {
      "text/plain": [
       "merges.txt:   0%|          | 0.00/456k [00:00<?, ?B/s]"
      ],
      "application/vnd.jupyter.widget-view+json": {
       "version_major": 2,
       "version_minor": 0,
       "model_id": "2913793d08044a6194adccad7eecc384"
      }
     },
     "metadata": {}
    },
    {
     "output_type": "display_data",
     "data": {
      "text/plain": [
       "tokenizer.json:   0%|          | 0.00/2.11M [00:00<?, ?B/s]"
      ],
      "application/vnd.jupyter.widget-view+json": {
       "version_major": 2,
       "version_minor": 0,
       "model_id": "4f9489e0e6e34da5a3e75c55553677f4"
      }
     },
     "metadata": {}
    },
    {
     "output_type": "display_data",
     "data": {
      "text/plain": [
       "added_tokens.json:   0%|          | 0.00/1.08k [00:00<?, ?B/s]"
      ],
      "application/vnd.jupyter.widget-view+json": {
       "version_major": 2,
       "version_minor": 0,
       "model_id": "e2d9a6b3fb74403ba00ae3b58a36282f"
      }
     },
     "metadata": {}
    },
    {
     "output_type": "display_data",
     "data": {
      "text/plain": [
       "special_tokens_map.json:   0%|          | 0.00/99.0 [00:00<?, ?B/s]"
      ],
      "application/vnd.jupyter.widget-view+json": {
       "version_major": 2,
       "version_minor": 0,
       "model_id": "067870554c6c4e38b73ef30126af4476"
      }
     },
     "metadata": {}
    },
    {
     "output_type": "stream",
     "name": "stdout",
     "text": [
      "microsoft/phi-2 does not have a padding token! Will use pad_token = <|endoftext|>.\n",
      "Unsloth: Making `model.base_model.model.model` require gradients\n"
     ]
    }
   ]
  },
  {
   "cell_type": "code",
   "source": [
    "#3: Load CodeParrot-clean dataset (1% subset for faster training)\n",
    "from datasets import load_dataset\n",
    "\n",
    "dataset = load_dataset(\"lvwerra/codeparrot-clean\", split=\"train[:1%]\")\n",
    "print(f\"Loaded {len(dataset)} examples\")"
   ],
   "metadata": {
    "colab": {
     "base_uri": "https://localhost:8080/",
     "height": 1000,
     "referenced_widgets": [
      "a2bf8cfe482e432e95c82c7e7f388b4d",
      "65969b4c51774858b19629b95edb95dd",
      "14e9d85e9b1a448a8607ba45c181ae46",
      "296286b6b2ca4a9eadab3ceb07255f09",
      "93b28cda8a9245e58eef8bb62b7f7a48",
      "a97dfe7462c147c1b0327bab71282e49",
      "fd82397858b04fefa07577b55c2f50e2",
      "11ac663194a54e6786dbebcfe3d8fc4b",
      "52a2ffc172b74f44a2815c982e8eca8a",
      "21061e6666004904bad2ac717cabbc13",
      "eda192be64284f0eb0549d0992cabbc4",
      "877350727cdc4a4897d318c4e890c029",
      "ff6169a36caf42e68979aeec12cbd59e",
      "02d3236090e34f949c84c7956df2c3c3",
      "dfbfc10aace448658e3684d26fd9f78d",
      "d68ae1c46a0947528210dd27fcf28338",
      "2963a5d630b44441b929db81259bad6b",
      "7b73729e5f354860b4a399d6a8c72de8",
      "72cda83d00fe4e25ab7c2ae4f23604a3",
      "6de6e68e4542430d841e9f8a0836c0dc",
      "85052816cf774857ba13fc0c740b4a4d",
      "8cec65a8cc824226acb941146dfa6fea",
      "e6cea892e9224bef82530cf9c31ce7c1",
      "b6cd83e0d3a246789142c7bbfa457e8a",
      "30d44e1609e04bddbce6a16d66cb443d",
      "f76cbae9e9df447ca1e5c4b0689435da",
      "82d7ebff2df0475b9699fd2e474cf5a2",
      "470ec772b49d444189e158f3d498508c",
      "ba3f0fa2c2364f0997ff5970c53cecf0",
      "fbea4d05b82345dba74bada26c04524a",
      "c9febb099b174c459c6ff1d26bc1e204",
      "aa02a27c19024e9293775343764f0584",
      "cbb8b0ff1b414ea79e2fa8c040d667b5",
      "21ee9391f9354cfbad278ca83402595f",
      "03dd47b3201040f59a66c819e9e0a92e",
      "88fd2962a649415f95c2c9e38025212c",
      "10b7f0cf2f2e4f2a96bd7e5b5ab2d554",
      "c75daea239604f069513634b77cee938",
      "7fefe2579e684353b7f85b2bdb107a8a",
      "5d8be87e232b41a881aaf66e55210137",
      "de9a736799cd4f3c961f9db7e8c7749e",
      "55c8e3766f7c4ad4a03244484e72a0c4",
      "3835df74097746bcb7df9459704f3898",
      "4d9fb1daaf6c41cb8c1ddb1f56743684",
      "1d20a87dfb7346358b6f9967ac7666ae",
      "11fcc2d5f1194d0c9fe74035bedcd756",
      "d1141500f2e34422925fde2e628daec4",
      "8e1fdb8b61a443d3bbbf636bd0afdca0",
      "82c8f67248e84402bedd536ce96a21df",
      "0cf11d6f1a844f14897325212b3d7432",
      "382fdb7c7230496a9cbdc9bfb9099fa6",
      "7438cc042f2f4e518c6182c596144b21",
      "33d58c3e837d487093dba6d44341c841",
      "4f1e025c685b4425ad110a19c388e42d",
      "ee4b23b69975438c8ebe213c853b1ca7",
      "97cc4a0f563249a1ad75ca87cdaf8c27",
      "52f05671fea04fb08aa207a0cb06a247",
      "3bd50fc76c9c44b4900356cdab7c4c28",
      "0b25fc0c122545c7b857eda5cc367442",
      "d0e344cc65764e6f8ab48c845e89b592",
      "3f2b34962e1c4ae8a7ec16ee3cb784d0",
      "397ab514dc804403bae6ca928d5b83cb",
      "e749c3f3a6f3425ea3be153b2bff39dc",
      "ba43028682ff4719b44cff2eb636a986",
      "e87238ef5ef34e6ab0cb3012e4405ccf",
      "90bc1488dd584ba7a43b60bc2ec6b096",
      "360e99b9b5b547919443ba0379052773",
      "c1caf0d25d46453f9b450a116f1a8907",
      "dec7fec10b3e49d2b39b6e1199902a0c",
      "9f066183b06649ccb74e726812111276",
      "5fc08eab9a694da187369017b6389bc6",
      "5d276d4443f048358d4646446111cd96",
      "c2776e618b374f83b4413462f61a4a47",
      "a40017b04f4945fe83be818193287057",
      "b6df55b5881140468a5a236412958d2a",
      "c451a1afee504f44852245c2ffda9367",
      "4955d066aa5947dea6aeba8ca8a6260e",
      "962d486f18f24c9f9faaefcc5ba5b43d",
      "04c13f02b8da4f1a9bd072ffced4754c",
      "3d80ea5ed1124599953839cb18dcb60a",
      "2b8d1075f4d84469bc1732add6b26bfc",
      "35a21e5d91af4f6c85eaeef59bd5867f",
      "22a95c18b3df4bbf9d67581d3e930bd1",
      "404183261fdf4f7681fde5ebe70daaef",
      "5decb4b9f9144ee380a3390e75eab270",
      "799ee4b9b08240d0a9881f3c59d619ed",
      "f340e5c85c494af5ac4e14f2911ba65d",
      "488edb1a193543d6825499f69a45f1c9",
      "b225712f8f9d490d8fae30e116762482",
      "3c9f3372291d4f0b9f0c3ad73613394e",
      "c68c4899f6a142c39184fb698c4f5d0f",
      "40659ef59b454bfd9a8658a4d032958e",
      "015e4174c5a7432fbe79375adafc315a",
      "c7853a6a2bd5493289a84130897306c4",
      "21a279af717d44b5b1becd024e82ce0c",
      "9af107821714484095fdecfa52ef0d26",
      "0feade73e0ea466e88c5cdd99558c510",
      "030d65357f3d48da8b52c486bd57000a",
      "d7a745902ce84da7a878a419653c2f7d",
      "a4e0d98af6614f77b3a85744048fb196",
      "d43bb8fc276540dca690051057e7a49e",
      "da55904720274d6ab2a128d6c776e5c4",
      "9d45402beacf4b85951e927d52e34492",
      "6496f89e76ac4982911e6cc62bd1c45f",
      "87a1d32b72884ba584bd07139d53e7ff",
      "8410430fd1e94a3791f46befa3c16cce",
      "2b4a1966c1414fd294ccffc3b7968fc8",
      "a7e5f723b2f0451bb7a923b8b7be9c43",
      "3c85a5f201e6492ea21a46f50034a7a7",
      "68b2330544cf40b886b5efb8c5d468fd",
      "c520c1c8450a47b7b2de04e2b6726641",
      "da26e628fc794e0ca196a973a6b97057",
      "2e7afbaaf2be445fa67c3e828511c5de",
      "ed5e05b9b7db4a97951ba5a90f391e7f",
      "c38c95b1b0b24db584bb5969e584278e",
      "a7af9504d8474ee4a87f1cdfa0cb58dc",
      "48e1204c026f40238c739d4996af2b88",
      "ccac0a4f95414d2288b4f37cca3d15db",
      "522b42c2ad804b918ce35cec1d043913",
      "5e4cb41308ca49daad82aa96d4123518",
      "d777f0bfae0a4ddfb6d48a91b14b7593",
      "eb25c7d10c154a1b817c9c9ae75c24e3",
      "ad8f8717fa334eac90634977659ae614",
      "8f6fc11859874981997e3604dd5e71f8",
      "7313bd6cfde94637931ac24a4107c11a",
      "d080b3d265404d70bf51f96ae45ec7d0",
      "a8ddc4fa00254bc982fcbfe2f9bc3ae4",
      "b2c336e5e35c4f0f833de50521a493e6",
      "1adcba8d6c8648208238e9b1559d55c4",
      "e53ee25083f84ae683f4c788f102fd14",
      "ca6e8e8109f14845b6bc5d3cbd89e500",
      "92d9e29595d4470da8e96b27a0f07837",
      "3cade5fbf03b4315a167705a1c4530c0",
      "43d0439bb6d442fdac66cef74b13c296",
      "b743af2f96b14a7a912fcb4497469fa6",
      "898f05d2eabd41cc9883a4f28092b9ee",
      "506ef6fa12f041e384fe9d59e2edcf09",
      "04dcae646aeb479dba7ba2054cca4625",
      "cc58ce751dfe468b973c9a057527931f",
      "d1cf8d026bc84560adf8e73192df1fd9",
      "6a59e80a5b2647fc81889575417c24af",
      "ddc966600f144eaeb24c3f2e763b6764",
      "f80aace0424e4a13bfab781e09c7f88c",
      "cb042d64c1db4e1cbd41c805bc5fdd5f",
      "7dea1c59959546c1abb207a6053c0dc2",
      "39edea04e0a847b0bb278eb068d9c324",
      "177e9a427ccf4b87aaa000d047851492",
      "05590a3a240040e998d3e9ac2611766e",
      "dec59b787bbe458388f06ae38239bd1b",
      "983e2597e6e249f2b25c2ea5a044f4a7",
      "10573881cfe0441c94f1e410e621adad",
      "c9d96e6336d84728932c666dbf76fa19",
      "0f636bed408e4610865ccca4b5d67707",
      "8cb9dcefa6154bc2871a9a6063927f29",
      "9c726d5b922e4e03b8ab17d3db0b2158",
      "303ecbd902fe49578d4fb69fd670ffc5",
      "66480e53e8cb453d962db12726c217d1",
      "9f2feb1bcff04eec9862440430048070",
      "97a67abe146743af91a02f56b1595ed2",
      "a8e55578b6f24d0984dc9d996d8f66cd",
      "f39750958c17412d965940ba726eea05",
      "7b2fad0cce2a4cb68c087e3dff6d68a3",
      "773a6fd597764e7c8c48b58e16bdbc3e",
      "259f06162e614b52b2e32037ef63363e",
      "683d5b077f174b70a840bed19489180d",
      "0000b8384fbc49bb99ce06edb3928c33",
      "03e902f89e534df882fabe2ab8c65744",
      "debc884f1e714ef99363a8521a6cb279",
      "d77fea7128ec4ae48d30d3a69dd7a17a",
      "1ca65bff8e934b1bb032301bcd012263",
      "1ce62bad442a423fa11ee98c001a9cfb",
      "16cce8aa8c32425891b8c991d5146cb5",
      "a7d4636af9964c05bfd00e8306064ed5",
      "79faca7b86364d38a8149972f066386a",
      "d5dcb75ead684c478fe3564f654dde2c",
      "4c98b34f1bad4f959379da49dfb121cc",
      "6dca4f61c4a2404785619bf0063304a9",
      "27325d1b2c3d40558903d9b218fd8717",
      "1857dd41d1904119b30f4d52b31b02e3",
      "5f344ef0abda48b0af77b141775cedbe",
      "947f029a7b674314bd014fc4104bb4ba",
      "efb5247be344465e8e212dc2343a459d",
      "89c2d586f7ae4b9ebe2288f0f5ba2c33",
      "0984fd1aecc648f3ab041fa3c0315f59",
      "b6456eb662174dcc86df3c8eed2f085f",
      "22d6effb3bf240e1b92cff024750522c",
      "90e1b56a4e5243098a4a5cbd26996528",
      "41263742f07c42a58a36ba35b41366b3",
      "b8706abdc4244503b5daa117afe46e5e",
      "22d350dee59540efa4ddb225cbbbb844",
      "92cfffe7c5894cd0835af01a5237a052",
      "c6d0dc7588684f31b2c04f125b1ce888",
      "fd008310141841428fb9234d84e99b3d",
      "1435dde41cc94cd2a46f5920c9ae1157",
      "8265492de46e46b985511cb6a048e35c",
      "6d59a41bc1c34e22bc556119acc2781b",
      "f3a48fb2d33a4e8c9e09d5c6867c8faa",
      "3de3a658b3c640ff93035710b36442de",
      "6aebf48c89764367a1995ce04dfd4692",
      "bc01484ebb824c2c959dc26f69f63aa8",
      "afe351da6ff048f686743242f21d6154",
      "fb63c075f6ba4549927213b529d29849",
      "682d9f00448647e9a8f36e505f6b4b97",
      "9fabc3938d804506a2c0d181765a5387",
      "442eb441354147869ae1474580ab0e9a",
      "fb97160a56a84ec290e83d0d8c29096c",
      "0861751f6bf9460686c6f8e08bd345f4",
      "99ccb3f1b30247728814f06fa10b618d",
      "f253873d53644cce8a6941e3c20ccbe3",
      "1c387218e4fe4a4cad5bd0091ee41107",
      "6cd506f4bc9e4631801986f458e59461",
      "5781545c7c9449e189b6dea8329a7d78",
      "f0e8a534c42f44cfb3cf011112d5aa59",
      "4c411372664d4519beac1aefa46dbeb3",
      "8c1eed7d177b4e4f99175e3c9738c597",
      "57cf208d39a148ff9ca69c8ede074700",
      "20189914253a48b8b5cc3ff09ecc8c0a",
      "044ac6ec10d44b6499b15276fb16f8e3",
      "d4221d33473543398f55dfdd94531902",
      "2c3958880a694e65932f3255e0f012c6",
      "731922eb29ac4906bc32f0a2407f4a1c",
      "83821ec364144fedb17b8550bd87e6fc",
      "f3220185d3c248a8a496e9aaac34eadb",
      "0d121491aa8b40238a1b91849cdfe37a",
      "6264dd26e57048c28b511c8493d24c9d",
      "f0078a6542674c828a0e14b2310602e7",
      "df4173011b52401aadaaa657f6a15ccd",
      "3fbdf190f025437783da1d6ae8afcc1d",
      "52f0e4306e1a461096491b1f005853d2",
      "1efb22536ae74f968c1627487b0bdddb",
      "97692fabd8a84beea832ad64ad1cb892",
      "a4b37beb0cbc4b5686e2900878633d28",
      "6a92270c87864ce48925f60f95c47fa0",
      "5ae076a8076c45b0a401dff92b579772",
      "9698bd2eea5c4a54928a293e66a42304",
      "29217cc06ae7497ab2ecd608eab26f77",
      "7c8ebddfaf914394ad5f0b8fdbe92ef2",
      "c796f0311c474e6d8d3e27aaabac9c0e",
      "72146b5f951d4409917da1c0956cc4c4",
      "df47e4a6f74c4ad780664d7125dac2b2",
      "f6226ecea49641a7a09d38b7e4be9571",
      "9b08d1c97cc14f17bd9829a7310a2721",
      "7ad9783bd6b541b19dbdd56fd0d19b2d",
      "c6e45457777a4156b37dcbd982e4860b",
      "291963ce36624c6f8530d663615e6a5b",
      "ca4cecb3093741079df6894c8676f7cb",
      "a0e4039e2f664ae2952a50fe52b82b67",
      "ad318f03fade40879e35f7e56fdb0838",
      "9fef001358454c5e9a3a3c5374b092b1",
      "c63001fcbc79455c8f726459d499c3aa",
      "97ccd7fdeff14835918e533c69351097",
      "fb6a8bb272c34e249be86c61c36f6121",
      "0f1ee6406ae94421a64cfed80560786f",
      "978ba9b0629545c7a0c216bd42156685",
      "5068bc5ed4b5413dba688e8c48afe46b",
      "11de0e0d561d415ca9450027ef718c82",
      "96a8cdb489444a34bb017e991d05754c",
      "cde908762681423a8182be9eedf0d168",
      "429f272d5117429da2dc1b7e2c816924",
      "b987fad5bd184e1ca581a4076e874522",
      "a163f64a4e7743c19b436cbfd210385c",
      "062fdc7cc1bf4fc39cde061a4b1691f9",
      "b6bd583ab8f44dea80bbe5287c5c9d41",
      "a05465425b3548e8a5467463c4d02a91",
      "a64bb9b2992942a288de1fefb29402d5",
      "a4034d2ec6644adaa72a7fbadd586cfc",
      "71d3304b65894b27a269a438e6298fc7",
      "9e0a64e06599487b95efcec7c3873e68",
      "6da2bef95bf64d798475d5777565bb5c",
      "71f99a2262174e118801c4bb9c61f4b2",
      "df34f20f67004145b85394f04f530273",
      "a2f36f49ebce4b03b72834431f21335d",
      "978ecf7ebb104f93872de3e74010c0ba",
      "9da29dc9b69e4fe8afc2cc1394e097b0",
      "84e159be727b476b8c33f4f8c1cace37",
      "bff333952ff843ce8d41adaf47323641",
      "4aeccf3451d64114bf3b3395870e1692",
      "14c323e502b94c2fa091d8b4267c0a2f",
      "094fa356fec843d9998cb40b428bfa70",
      "12c3b02cd8aa4986a8a8f892519a27a9",
      "2ceaa54d2cef4b55ae55cd47438d735b",
      "b900177fd7694020ac041c8d01111fc0",
      "a92eb5527655463cb2be7391c73d6335",
      "be239203d9de49acbe3a945e820940fb",
      "630f7c0a4d6248bb93e56776bc2b6875",
      "21171fbae89049f89212af7c11c51c27",
      "160591f9ac5e405b94a37a517458b878",
      "f9687cad12b44802a6fe8ca9ce721dae",
      "054a64e2e084486bbb4a365141074ecb",
      "1eabb5df819e4f499b4a4a07ccb9c78b",
      "3fe128dee5e047df8ae7a6fbd0751a34",
      "c63002cc39a643e89f1d96501936c328",
      "0deba8563aa54c6abdf32d9c8a1ef338",
      "fa752501380b46e9804f24a0a9e0a867",
      "c98bbe7d82d145cf9438bd15d126edc4",
      "6b472393b08749f9a34c26aa687a38f8",
      "52ffeab4a2f24e948ce9602813f5818a",
      "92a03444fc974acda610b29b373993fb",
      "35e941796d8944eb999d6baa28cec52e",
      "1fed783849c84f4e998ffb15a45f3456",
      "d06c2c085a13481bac1ec6765edcb0f1",
      "1babf00ebcda4a39bde54c839ef1f170",
      "836cd4af5b02452a9024e0e670cde761",
      "83d55aeb59e041dbb5be5d1c9155ee3e",
      "7e54234fc9a44ad9bc9c5b1b06c09400",
      "8c39ee0e3fc64de3806491bc8ca7eb0e",
      "cfe615dd515845e992b799b892cff8d0",
      "57b56d00bab9465f8290005f68427981",
      "7b1b17de9fc24009bad9d4485b830e08",
      "ddb42c9d9d244e7788f35f9d7512aff0",
      "223b0b09830f4709b770aae17a8c7d68",
      "8b6ec0a33d564fa799b118706386d9ad",
      "f1b5e01251a7405e99dfc95f3491baf3",
      "a2f8470eaf1e4fb1bd753a66cf8e225a",
      "c29c37db26184f7087f84eea5d70c8ce",
      "a26e08cfbbd147ebb4cc63d518b4a06c",
      "ac8eb7e003e648d389aa6b29c19177d8",
      "9ec286f1a7cb4a71b8485af9d7136b09",
      "f9a7a907751a4448977cd67744e50c32",
      "2f651ecf5b7143a3a2bf95266ca3fb1e",
      "acfd3483c851415e9c79f3129b66856f",
      "6395b86bb49c4f87a3cb84f32a61a790",
      "1c53a332f87a4a4b893faf81a4ef2841",
      "6ca882b0f10d407e9594683be541f352",
      "a649a390347140a08da82b08b379419d",
      "25e044c6231042ff905060691c3b987b",
      "c3c9f4ad0a9243898bc828c008dbf006",
      "949c45491a3a4e648d179af4679c3d11",
      "7c3f54b6ed6c4a60bf74083d693b11e4",
      "39699a7c188b4b19b11a7dba356b1067",
      "79abd7ad9d294800be69a5c718754ca3",
      "3bfe183a04764c5cb9fee03885466770",
      "42f2986b5f4d4777913785708a66b437",
      "a685d1822b864c03815f500ce375279d",
      "6e26999732094aeb911a12fc98685ec3",
      "e76b5e6c3e7f44918933d342e552dec4",
      "9abd468bbdd5499a9b1f1f1177515c05",
      "f0fd39bb3b28467c9b1fb82c6eb47e07",
      "3e3a6f57462f4c668f69307cddeda6a7",
      "81006cdcb2fb43ae858b52d45aecefe2",
      "1fa3e4a9a31f4df391f1c783c0dfe1ef",
      "c9b05b4922234742bbb2fa4664ad3809",
      "fc8b47a008d743468d112b17e4d61600",
      "7a1adbca2f2340d9a13110710bd008a0",
      "7e574d24248943f6ac4022d5845e0adc",
      "07685f77be70438da21901804699b7ca",
      "bc52270e60aa4cd5afa0904ca4ba00c5",
      "a730165bd0af4584a115bdf828031a47",
      "39ee2047b3754994a7131235f4f45109",
      "b57083ca07d542ee863db338f32b0e5a",
      "61ccb8927f554754a1198cdffbb1a5e9",
      "130a2f84f9cb4fce8b3e88dc2f316e3d",
      "7c7500c6bea4478a89e5e7d238bf8d0c",
      "a7c2c78531f04fd8984764664feb858d",
      "c2687aa32a8944f3a8b913e31ae7b00d",
      "6456d1f172ef4dc38fe5864cb94478d6",
      "8515e5c8f9b741b8bf55c82ecc097802",
      "bd70a5554fba46eaa56c3684d691a6a9",
      "ca02bdb1e7254363ac139b41be1a8733",
      "939e956e418545c18641c429b9b476e7",
      "6df39e53b61e497681bb87b41c5c06ce",
      "1a09a422b9df4019acb5aebc2b3dff48",
      "a15cc9bebd0f4623b97c148c88bce548",
      "ab7505ab4a454eb692fb054475f32f8d",
      "86a84201d99542feb6c2c61a766dd86d",
      "bcda9189a17e465fb78821819f039960",
      "b5ef79a72fbb48ffbd4c0f4337b6d546",
      "e538b2f74d6d4268940c1087d8375bae",
      "adb2ed1adb0844de9addde3e12c2e918",
      "d6ffeed016c746f9b9d3606537f85e59",
      "81ab8a19173248aab5f2e3783ad8c5e7",
      "796c7c443e4346d5a888fd03c43977bf",
      "e84eda6c6fec449ea070c7850037128a",
      "1eb20f60b739488b86a739ef264f8a0c",
      "473481a78e1d4ac1859668bca1230111",
      "afd9b750598740828952b1934031c196",
      "450eae15f9e54937acbf4fbf500fb369",
      "89fba1399a1d4a189bb9fc26fdc015d7",
      "182e7c54bb7b48db9e7ef88a4edeac9f",
      "a857039396584b25a89d3beb6d1c9e8e",
      "b7c6d017c9e046b1bb2b765b54e50ac6",
      "adc66b0ae1304d29842b95d9efe5df63",
      "07c113c2c9dc43d8b78a06cb0c74642e",
      "dc41cf1ad2314d30b2bd738b3eb07dfe",
      "4dfed9ad0ae44de798ff0e4ec620fb81",
      "4bb227939b824ce2961ad977d92b0740",
      "bfb9d754b2d440478736f958bd4a11cc",
      "96bdd48204194e11aede825c46215683",
      "dd1b9f09edaf47f08632c9f059d1eb53",
      "24e7cbf248dc459e9404f5c804e61848",
      "36e5abb779e24dbab56460f5aec09ae5",
      "37082f8326684ac2b6538bbab8189cd2",
      "52076fa1b6a84e82b638edddaf791c7b",
      "af5cab9e662546daaf40553d716e393c",
      "e483736f48b04955b73e6e8750b8b933",
      "52add974fc1741d6b16f503bd041662c",
      "2f659038e9cd4c378188ab279d6351df",
      "6461e88078ec45feb758e61cef7dd690",
      "688873b9b0f54a6e8a604ff95fe44cb6",
      "8d79090b18a74cfea8342ca070be667c",
      "4234efd6cb2f49bb996f4dbf4d797514",
      "8bc9257f5cf24d729eb9e428bc001615",
      "72aa96394d6c45ac9d36e230e2c538f7",
      "239cedb832804f9ab209897245a6a8d0",
      "83674da51832471f9608e587c9e65c7e",
      "90348a69be9b46dabf710ce6bddbae75",
      "b47f491b17804c11b50a9aa312729169",
      "6cae9568d8fe40548e063217a4fdd29b",
      "aaeb7cfde85041feb13ff2c527d0fd32",
      "ce6a672bc3614656b36d9aacbe0f412c",
      "afc4b550e2ff41709a8956c5ccb66120",
      "9b8973a3cbeb4c5ab63e5c9a8880cca6",
      "094dc2927363498790642f766797689b",
      "2683a098bcb742689c9e3ef697aedec1",
      "f79ceef677994e468b8bfd0925f666fa",
      "d23b6005a7354be490888456aad3bca1",
      "6a7915f6a2fd4fd0bc34a70e11c1e066",
      "0e09741797fa44fb898b204c2018955f",
      "380eeaf610244aa5a44e7baeaa91c21c",
      "f964ba2e47bd4407a62ace598b887a0b",
      "a7e9f3ca8f984b1d86adbbfdd8dc4285",
      "d6a235dc783c4e7da21e4ee1b19129d9",
      "41770c5b05b4453db45f4ef3f9bda020",
      "8d0cd7942a4243909fe6de1a5773e709",
      "2895ac8f8efa49078fb026bc679ad8ab",
      "b0a5941e5ec547c0b5bc094fb59fc2d0",
      "7bfab9be8f9d4faca0d035444c8c7976",
      "07e9087a771b4862bfd68acbca754b4a",
      "a9e91fe502584e1fb2ebe70da2fcedad",
      "4d75e96d6fec445ea73aa1728470de53",
      "72ed755b4f71471392dce2fea274f63e",
      "cdf97edd87b94eca8dbc7a157b1b6639",
      "448195064ccb446c853d3231339f23b6",
      "b609e523d164430281575ec7c0d09fc4",
      "3da7e2bfe9f2434c9c25753251b3d54f",
      "62519d25134b4db29cdc60f4873f505d",
      "129caadd0cd347f28d875567c1019dbf",
      "757fe2aeab944289873e36480df1005e",
      "17ac55c0bb764f82973021b7e9d45d91",
      "692ec408690a48d59039c4780bf64bf6",
      "5eb0b1f4befd494fae236e15527d4970",
      "1ffd1294d02b432b91235258ad3a3490",
      "91df9537a7a44ea2a4ec50e71e386a7a",
      "78d5fac2636c424dbc3ff2dd1e5b154d",
      "b7d0636c6d2144369e7806738f130211",
      "3a30f653ddbd4d158ce0e02e3b2702cd",
      "5fc99619de1446b6ac6e4ba5c7b73d19",
      "80eef913318145598cdef65ff3f331b0",
      "3c296a2a0d7e4dfcb6cce535863c1e99",
      "b410988f03fb4d7c8fa9e1b8f4bf766f",
      "c1b2f5d03786470dbf12f858eb9cfbe0",
      "4272d4b4ac3e4abf9231f3ecc07fa6d2",
      "7afb1f9fdbe3467d93277c25f8a3f089",
      "2262ab022a1c4d28b852196c1187446e",
      "3a6f6bcaece9450ba1009ad2dbd3ede6",
      "ba6c10cc0a0f4fa2ba2f506af2f8d0e0",
      "695f2014d87248a1b60b19359a8f76d6",
      "3ac0a829885349149e601cc9bcbe7f43",
      "8faacb228daa4cf5a45993484faca2d3",
      "8f9c5d0afef14723a01d7871fafc7dc8",
      "f288a03e727d4cf696070b7dd44cc77b",
      "18893ae908044ddcacedea1b24ce967f",
      "c1bde5e16f6043eba75f6022fb5e00e2",
      "e961c8a55a3b4368828bd5287977ed0d",
      "3e9c5a31a6e848aebd14c453ed793280",
      "e3b824c1beee4a6f85e3b3dfdc8456f1",
      "ac20048f7c4d4d2c99f01838971ba1e4",
      "b82d0503cdcc40149dfe291a2b1afd69",
      "97f4a78acf4149bab2508376589c83cd",
      "9ea9ef8bcfa8406485ab8cde6285ccdb",
      "7d401b84d68d491898e2e9ff2481069e",
      "e47e2c63ad9846ec8a02d855d34e0b8e",
      "b019d04e9fc341ac92f37c365031fbc3",
      "be49cfdb63044ec68c723c8cecd2880f",
      "fbb50bdbd0cb4ff1996727ea01361730",
      "51854b4ac8864dd1819b4aa20f720ea6",
      "53f5e5e2068d4a70b0249355591f2493",
      "a9f0868e907b4e26b4201daa06baeabe",
      "6b8b526d04f046ab98d735f613f98bfb",
      "df397ecb03db40a49cfd30d670b69692",
      "dc7be587934c46ab91ad8effad35afeb",
      "78461c35dff044e6a68a43aa441bfe18",
      "421c83e582e7419684e981988923b4e5",
      "5d86b7fe4beb4610a019d175e18e45ca",
      "339e68dad5ae4bb584086329a62b5c6d",
      "022319db4f72419bbf9cbcbbfe6e8f61",
      "eb01246092804def98dac2cc9aba892f",
      "c14f934768b94ed5a1fa603bd1346131",
      "39237e8f4cba47cb8b91cf9a37d3a6db",
      "d121db746a314abaa822670347b0db09",
      "6cafbfc29529450fb8ba5d020e7cd5b2",
      "f2819f22fe734597acb744c468fe32d6",
      "2c6867bf4d174f4b9cccbef0bef7b1a1",
      "6c3a6087384741f397da4864d10c3af5",
      "a5068c96fbaa4881aeece768e67bacb5",
      "9133096ad6e447c988d1f4797fd3ac12",
      "cfc645d618d84b69ad72c9246fe94d1b",
      "730b10988f324223afe43839483d9965",
      "368ae77065a24b6d8fdf909da241bd31",
      "2ff1baa0487b411f9c839d5552841d7c",
      "64cd1d40a4ce48e9ba1812f90af86af1",
      "c51894caf0a94e50a182778295f143d4",
      "1dd4f0d42fbe491d9db97d781652a87f",
      "79c42138bb86459fb43ef75e3a320e22",
      "74fb0b0c2a654323bbc31666ebca1bd0",
      "2aa7a7ac06bb46b2904e81fb0a96f393",
      "7adcbb3a9e17430aaecdf22592be2941",
      "c9a1ee9be6104aa2833b3e27fcef2e26",
      "099123e526834437ac1b47f137521527",
      "0e5d0b774d4b49f2933e0ba9112e1e07",
      "58d5f23036564daead16212188a31414",
      "1d79b6cc988d4a29949947f828cbe452",
      "6bf90a5798e04b63b95100fdeb6b54ea",
      "b3f7a0a419fd42678d8fd82005accb80",
      "2c6c235944074026b13f55f2d8b7fcf2",
      "184b4db3549f43c09be2e2e3b42b2737",
      "a4c95079f28c4d038580c39c4bdec612",
      "2666bd4773af408fb1eead26b751df46",
      "a831fdf8da60402f825209eae048053d",
      "8f7ee15a1b54422b92065bf767706b0f",
      "3026a33c95ad4d8a98c89b9af31ef413",
      "6327aa41c91d4d6da1e068f7cb7c18d0",
      "13c2f4d838a045829110eae19001c11e",
      "06aea8b358c542e69b419619966e7b80",
      "ba02463e13784eb6ac7e3fe0885826fa",
      "b0bdb0aeebd94dce830279a95fca4481",
      "81f06bc9966442c3b3771356fae4eecb",
      "e97c6f9186624ca7ac3effcc84da6485",
      "5cda95aa55fa4c72bc1982a129aa670f",
      "9c979b727c2b4cb39c4d4212b466128d",
      "4ec89bb396cf43bd8b6ba8c0beefd40b",
      "38f114aa79cd4526986d87ffec4520d9",
      "31e7384fff4441fa86a9609679457a8d",
      "2f80bc98ab3c48c9bb83c27120511c46",
      "478c306f31fc4b93b4724a6c4aa37b8e",
      "977ee913b5cc4df2b82126f5c174eac7",
      "3d7ba11c5c634995b2ceed535a4b5dfc",
      "ad0ab987674e444ab4e63fb20baf7951",
      "8134f03094f74307ab5dc41487e9d019",
      "22fc560cd6924692886f05aef635afed",
      "03eddee43d314e439a73d761450b2179",
      "a62c593945134740b1945b0aa5ae90a5",
      "4d1bf6a1614a4189a5b75167852bfe34",
      "d2e2016017d54b20af11463172141bd2",
      "6c7114b0c241468ea3ac479d7a4faf31",
      "84f62ee6e1ed4a47b32b59425e7f02d2",
      "70d4807ac7b4400782ea80492a1eef40",
      "d446f9f995844a4dae4ba40900557bb8",
      "a7e4e16f0e994b379f5ae4c69d3a8a6a",
      "732ca3d4aebd4242b0916c2bdf229278",
      "50544becc9a24401a9db71d8930b16f8",
      "442dbd2e1996425f90c3aaee41d7fabb",
      "cdcdc64070664e689ddd19147e1702ad",
      "6d2fe6d845a84c92888805d3ecc12686",
      "376e405d0a1c4ccabb999e7ad46eed14",
      "6e6757b0300e4a088a6bc932b1555f9d",
      "14fc3f59577c4c35afbc0bc5961db2e8",
      "7e4eb093010b41feb6acd57e4274fcd1",
      "49585de87f074f2289319e3cf589d7b2",
      "f82a56b8f844403a976f07cd5af994bc",
      "0a9095b4c3374d39898498a0a325f912",
      "62f064ee17194a6980b395f8bc5b2906",
      "e6ad23359c624d5aa58724490e670d8f",
      "8903a45f013a45509e21d720379de6c3",
      "d4b6073ad442460483379c3172129ab2",
      "f4f2cba8d5c84dab9ed7c5decc4f2595",
      "a5fa15a7ecb84a1a9c9cccc003589fcf",
      "98db24b7c59349b88421e9ef958a0dd9",
      "1cef3b3aaa4b408c94d753a112975813",
      "0dbce1be72f64e4a8ab40e84730209a3",
      "d63954596cfd404eb49df534164819f1",
      "c2f4cb7c7be04c88ba9908ffe4b7fb16",
      "814a65ab8a2340b485c7358ea539dc70",
      "ab6342913f6143aaaf02bd4742f0f4e8",
      "f0f46c0068964851b4c772d192a87ae4",
      "b208c05c2b4d41d99293f7e3efe4dc51",
      "334a2ea779ea42e996c14a3fac91b849",
      "82b4989ba0274ea38a102112547db577",
      "342df41bad5f47339092eb3021a49201",
      "9117d61f05b147c890f9b2f5f1ab2efc",
      "ed085222540d417cbdc5cce0616b8eec",
      "a8842b4706554d0887851dc24be881e4",
      "d320e938c00f4cc386c2d8ba01554cb6",
      "6e8c92cc09684937b6a4f098a45c7e34",
      "0df5d71814ba46aabb30754fa59c235f",
      "3c47fcdfbb934d96b1224bb280594aa2",
      "52bedd404d1e4704b6084be360034bee",
      "0da311b950ab4471a9c10c1af802820d",
      "0a0dc023f4454c51a20e24f2c6ea4fb4",
      "dc55d37dcbdd48a890b88a167f5ed701",
      "b870e18fd9794a0a9caae32cf6c42024",
      "06bf69d3e12e4892bc324daf2af2d3e8",
      "bc086fee3a754d08bbc37e5b15712801",
      "6f65951b562c4576a92c065a930b64a7",
      "b52adcd69bea47ee8571db55a1432a59",
      "0fcabb3c1fef414991654630ca2627cb",
      "38d9a5b7f6f9479fa328d50899412251",
      "b7cea74349bc4032a3249860e08d9883",
      "1d8eaf7571ac484f9c387f2caf2494dd",
      "28025711d4734151996c6548aa33ca2b",
      "a5fbc56f918a4f90bcdbff2489b17643",
      "3be49cbc8188434b96b36b9d5d477f4b",
      "cb8437b552454da3b8e7ffe32d96706c",
      "4b62c94d587c475a863bb90ca5da72c9",
      "133ec426c1a34884a184d02f63cc4935",
      "3df14734574d45b2a95b1e4c140854b5",
      "ce56d0f976ac4f09a3a77f592612d4f7",
      "a07dc7594f1f45faa0c5ba817915f878",
      "13aa240b054644878a5a2851cc61fbfc",
      "4bd4908c720c4f0087cb6710e47bd912",
      "a2a1b38a280d452f9c87e6387b8ba690",
      "7a240baa70b64200b7ad1d2bf59bcfaa",
      "7fb16a88611e4918ac598efa3da2e450",
      "47c1213dde4c4abe9276ae4ff591fd14",
      "c8a1fb0921804557a33c4d136ddd1a47",
      "a834206a015146f8aa54e6b77ab854f1",
      "caf2d8562ac847cdb4415afa4a3dde23",
      "35a13f69c9ae45be8576967f69fc3f9d",
      "f44921c6b8a449c08c21fd0ab04220bd",
      "4a2b72d1839c40c49af8a4b27d3c03d3",
      "2ae8c92d719548e68ce0b9a9a46df91d",
      "7005200740584ddbbfa8a130cf003628",
      "3fbfadf8eafd49998609e8975b481f25",
      "2e23a5021f384a0d99f015cae4928d7b",
      "4454b5983f9a4931a423f55d5d7ab8b0",
      "db0cf9084c0d46fda8a6525dea293624",
      "860b928bd9e544b19ad88723e6dae834",
      "8069ff9f7c2b41b1b135c1af77489c4d",
      "64e9d9fef7c84e41bd1be1f0bad51c3b",
      "41ef51eafde24f91bc82c5421e24f8b6",
      "5b15d3f8e2d44d54a5d7edd051639cf0",
      "a65cc869a0a14c95a7ddf58268cd9701",
      "849d8fdc76a34f89af76eef2549b06a1",
      "dafc3eb958a4481eb10ecba683eee7a2",
      "37359738489845d59b3eca59b639e415",
      "7a8581a4a9dd407e8f2d8fd2e1ba7eed",
      "fcfa72082b1a4de7b47a521136e01d3b",
      "a5283be845534580bddf000bf8ea0e25"
     ]
    },
    "id": "xjOB5WXiecMQ",
    "outputId": "4c8efa04-ba83-4ff5-8540-ed2dbe57676f"
   },
   "execution_count": 3,
   "outputs": [
    {
     "output_type": "display_data",
     "data": {
      "text/plain": [
       "README.md:   0%|          | 0.00/1.30k [00:00<?, ?B/s]"
      ],
      "application/vnd.jupyter.widget-view+json": {
       "version_major": 2,
       "version_minor": 0,
       "model_id": "a2bf8cfe482e432e95c82c7e7f388b4d"
      }
     },
     "metadata": {}
    },
    {
     "output_type": "display_data",
     "data": {
      "text/plain": [
       "Resolving data files:   0%|          | 0/54 [00:00<?, ?it/s]"
      ],
      "application/vnd.jupyter.widget-view+json": {
       "version_major": 2,
       "version_minor": 0,
       "model_id": "877350727cdc4a4897d318c4e890c029"
      }
     },
     "metadata": {}
    },
    {
     "output_type": "display_data",
     "data": {
      "text/plain": [
       "Downloading data:   0%|          | 0/54 [00:00<?, ?files/s]"
      ],
      "application/vnd.jupyter.widget-view+json": {
       "version_major": 2,
       "version_minor": 0,
       "model_id": "e6cea892e9224bef82530cf9c31ce7c1"
      }
     },
     "metadata": {}
    },
    {
     "output_type": "display_data",
     "data": {
      "text/plain": [
       "file-000000000001.json.gz:   0%|          | 0.00/246M [00:00<?, ?B/s]"
      ],
      "application/vnd.jupyter.widget-view+json": {
       "version_major": 2,
       "version_minor": 0,
       "model_id": "21ee9391f9354cfbad278ca83402595f"
      }
     },
     "metadata": {}
    },
    {
     "output_type": "display_data",
     "data": {
      "text/plain": [
       "file-000000000002.json.gz:   0%|          | 0.00/248M [00:00<?, ?B/s]"
      ],
      "application/vnd.jupyter.widget-view+json": {
       "version_major": 2,
       "version_minor": 0,
       "model_id": "1d20a87dfb7346358b6f9967ac7666ae"
      }
     },
     "metadata": {}
    },
    {
     "output_type": "display_data",
     "data": {
      "text/plain": [
       "file-000000000003.json.gz:   0%|          | 0.00/247M [00:00<?, ?B/s]"
      ],
      "application/vnd.jupyter.widget-view+json": {
       "version_major": 2,
       "version_minor": 0,
       "model_id": "97cc4a0f563249a1ad75ca87cdaf8c27"
      }
     },
     "metadata": {}
    },
    {
     "output_type": "display_data",
     "data": {
      "text/plain": [
       "file-000000000004.json.gz:   0%|          | 0.00/247M [00:00<?, ?B/s]"
      ],
      "application/vnd.jupyter.widget-view+json": {
       "version_major": 2,
       "version_minor": 0,
       "model_id": "360e99b9b5b547919443ba0379052773"
      }
     },
     "metadata": {}
    },
    {
     "output_type": "display_data",
     "data": {
      "text/plain": [
       "file-000000000005.json.gz:   0%|          | 0.00/247M [00:00<?, ?B/s]"
      ],
      "application/vnd.jupyter.widget-view+json": {
       "version_major": 2,
       "version_minor": 0,
       "model_id": "962d486f18f24c9f9faaefcc5ba5b43d"
      }
     },
     "metadata": {}
    },
    {
     "output_type": "display_data",
     "data": {
      "text/plain": [
       "file-000000000006.json.gz:   0%|          | 0.00/246M [00:00<?, ?B/s]"
      ],
      "application/vnd.jupyter.widget-view+json": {
       "version_major": 2,
       "version_minor": 0,
       "model_id": "b225712f8f9d490d8fae30e116762482"
      }
     },
     "metadata": {}
    },
    {
     "output_type": "display_data",
     "data": {
      "text/plain": [
       "file-000000000007.json.gz:   0%|          | 0.00/246M [00:00<?, ?B/s]"
      ],
      "application/vnd.jupyter.widget-view+json": {
       "version_major": 2,
       "version_minor": 0,
       "model_id": "a4e0d98af6614f77b3a85744048fb196"
      }
     },
     "metadata": {}
    },
    {
     "output_type": "display_data",
     "data": {
      "text/plain": [
       "file-000000000008.json.gz:   0%|          | 0.00/248M [00:00<?, ?B/s]"
      ],
      "application/vnd.jupyter.widget-view+json": {
       "version_major": 2,
       "version_minor": 0,
       "model_id": "c520c1c8450a47b7b2de04e2b6726641"
      }
     },
     "metadata": {}
    },
    {
     "output_type": "display_data",
     "data": {
      "text/plain": [
       "file-000000000009.json.gz:   0%|          | 0.00/245M [00:00<?, ?B/s]"
      ],
      "application/vnd.jupyter.widget-view+json": {
       "version_major": 2,
       "version_minor": 0,
       "model_id": "eb25c7d10c154a1b817c9c9ae75c24e3"
      }
     },
     "metadata": {}
    },
    {
     "output_type": "display_data",
     "data": {
      "text/plain": [
       "file-000000000010.json.gz:   0%|          | 0.00/245M [00:00<?, ?B/s]"
      ],
      "application/vnd.jupyter.widget-view+json": {
       "version_major": 2,
       "version_minor": 0,
       "model_id": "3cade5fbf03b4315a167705a1c4530c0"
      }
     },
     "metadata": {}
    },
    {
     "output_type": "display_data",
     "data": {
      "text/plain": [
       "file-000000000011.json.gz:   0%|          | 0.00/244M [00:00<?, ?B/s]"
      ],
      "application/vnd.jupyter.widget-view+json": {
       "version_major": 2,
       "version_minor": 0,
       "model_id": "cb042d64c1db4e1cbd41c805bc5fdd5f"
      }
     },
     "metadata": {}
    },
    {
     "output_type": "display_data",
     "data": {
      "text/plain": [
       "file-000000000012.json.gz:   0%|          | 0.00/243M [00:00<?, ?B/s]"
      ],
      "application/vnd.jupyter.widget-view+json": {
       "version_major": 2,
       "version_minor": 0,
       "model_id": "9c726d5b922e4e03b8ab17d3db0b2158"
      }
     },
     "metadata": {}
    },
    {
     "output_type": "display_data",
     "data": {
      "text/plain": [
       "file-000000000013.json.gz:   0%|          | 0.00/245M [00:00<?, ?B/s]"
      ],
      "application/vnd.jupyter.widget-view+json": {
       "version_major": 2,
       "version_minor": 0,
       "model_id": "0000b8384fbc49bb99ce06edb3928c33"
      }
     },
     "metadata": {}
    },
    {
     "output_type": "display_data",
     "data": {
      "text/plain": [
       "file-000000000014.json.gz:   0%|          | 0.00/242M [00:00<?, ?B/s]"
      ],
      "application/vnd.jupyter.widget-view+json": {
       "version_major": 2,
       "version_minor": 0,
       "model_id": "6dca4f61c4a2404785619bf0063304a9"
      }
     },
     "metadata": {}
    },
    {
     "output_type": "display_data",
     "data": {
      "text/plain": [
       "file-000000000015.json.gz:   0%|          | 0.00/243M [00:00<?, ?B/s]"
      ],
      "application/vnd.jupyter.widget-view+json": {
       "version_major": 2,
       "version_minor": 0,
       "model_id": "41263742f07c42a58a36ba35b41366b3"
      }
     },
     "metadata": {}
    },
    {
     "output_type": "display_data",
     "data": {
      "text/plain": [
       "file-000000000016.json.gz:   0%|          | 0.00/240M [00:00<?, ?B/s]"
      ],
      "application/vnd.jupyter.widget-view+json": {
       "version_major": 2,
       "version_minor": 0,
       "model_id": "6aebf48c89764367a1995ce04dfd4692"
      }
     },
     "metadata": {}
    },
    {
     "output_type": "display_data",
     "data": {
      "text/plain": [
       "file-000000000017.json.gz:   0%|          | 0.00/242M [00:00<?, ?B/s]"
      ],
      "application/vnd.jupyter.widget-view+json": {
       "version_major": 2,
       "version_minor": 0,
       "model_id": "1c387218e4fe4a4cad5bd0091ee41107"
      }
     },
     "metadata": {}
    },
    {
     "output_type": "display_data",
     "data": {
      "text/plain": [
       "file-000000000018.json.gz:   0%|          | 0.00/242M [00:00<?, ?B/s]"
      ],
      "application/vnd.jupyter.widget-view+json": {
       "version_major": 2,
       "version_minor": 0,
       "model_id": "731922eb29ac4906bc32f0a2407f4a1c"
      }
     },
     "metadata": {}
    },
    {
     "output_type": "display_data",
     "data": {
      "text/plain": [
       "file-000000000019.json.gz:   0%|          | 0.00/241M [00:00<?, ?B/s]"
      ],
      "application/vnd.jupyter.widget-view+json": {
       "version_major": 2,
       "version_minor": 0,
       "model_id": "a4b37beb0cbc4b5686e2900878633d28"
      }
     },
     "metadata": {}
    },
    {
     "output_type": "display_data",
     "data": {
      "text/plain": [
       "file-000000000020.json.gz:   0%|          | 0.00/242M [00:00<?, ?B/s]"
      ],
      "application/vnd.jupyter.widget-view+json": {
       "version_major": 2,
       "version_minor": 0,
       "model_id": "7ad9783bd6b541b19dbdd56fd0d19b2d"
      }
     },
     "metadata": {}
    },
    {
     "output_type": "display_data",
     "data": {
      "text/plain": [
       "file-000000000021.json.gz:   0%|          | 0.00/236M [00:00<?, ?B/s]"
      ],
      "application/vnd.jupyter.widget-view+json": {
       "version_major": 2,
       "version_minor": 0,
       "model_id": "978ba9b0629545c7a0c216bd42156685"
      }
     },
     "metadata": {}
    },
    {
     "output_type": "display_data",
     "data": {
      "text/plain": [
       "file-000000000022.json.gz:   0%|          | 0.00/238M [00:00<?, ?B/s]"
      ],
      "application/vnd.jupyter.widget-view+json": {
       "version_major": 2,
       "version_minor": 0,
       "model_id": "a64bb9b2992942a288de1fefb29402d5"
      }
     },
     "metadata": {}
    },
    {
     "output_type": "display_data",
     "data": {
      "text/plain": [
       "file-000000000023.json.gz:   0%|          | 0.00/240M [00:00<?, ?B/s]"
      ],
      "application/vnd.jupyter.widget-view+json": {
       "version_major": 2,
       "version_minor": 0,
       "model_id": "bff333952ff843ce8d41adaf47323641"
      }
     },
     "metadata": {}
    },
    {
     "output_type": "display_data",
     "data": {
      "text/plain": [
       "file-000000000024.json.gz:   0%|          | 0.00/237M [00:00<?, ?B/s]"
      ],
      "application/vnd.jupyter.widget-view+json": {
       "version_major": 2,
       "version_minor": 0,
       "model_id": "160591f9ac5e405b94a37a517458b878"
      }
     },
     "metadata": {}
    },
    {
     "output_type": "display_data",
     "data": {
      "text/plain": [
       "file-000000000025.json.gz:   0%|          | 0.00/238M [00:00<?, ?B/s]"
      ],
      "application/vnd.jupyter.widget-view+json": {
       "version_major": 2,
       "version_minor": 0,
       "model_id": "92a03444fc974acda610b29b373993fb"
      }
     },
     "metadata": {}
    },
    {
     "output_type": "display_data",
     "data": {
      "text/plain": [
       "file-000000000026.json.gz:   0%|          | 0.00/237M [00:00<?, ?B/s]"
      ],
      "application/vnd.jupyter.widget-view+json": {
       "version_major": 2,
       "version_minor": 0,
       "model_id": "7b1b17de9fc24009bad9d4485b830e08"
      }
     },
     "metadata": {}
    },
    {
     "output_type": "display_data",
     "data": {
      "text/plain": [
       "file-000000000027.json.gz:   0%|          | 0.00/238M [00:00<?, ?B/s]"
      ],
      "application/vnd.jupyter.widget-view+json": {
       "version_major": 2,
       "version_minor": 0,
       "model_id": "2f651ecf5b7143a3a2bf95266ca3fb1e"
      }
     },
     "metadata": {}
    },
    {
     "output_type": "display_data",
     "data": {
      "text/plain": [
       "file-000000000028.json.gz:   0%|          | 0.00/239M [00:00<?, ?B/s]"
      ],
      "application/vnd.jupyter.widget-view+json": {
       "version_major": 2,
       "version_minor": 0,
       "model_id": "79abd7ad9d294800be69a5c718754ca3"
      }
     },
     "metadata": {}
    },
    {
     "output_type": "display_data",
     "data": {
      "text/plain": [
       "file-000000000029.json.gz:   0%|          | 0.00/238M [00:00<?, ?B/s]"
      ],
      "application/vnd.jupyter.widget-view+json": {
       "version_major": 2,
       "version_minor": 0,
       "model_id": "c9b05b4922234742bbb2fa4664ad3809"
      }
     },
     "metadata": {}
    },
    {
     "output_type": "display_data",
     "data": {
      "text/plain": [
       "file-000000000030.json.gz:   0%|          | 0.00/239M [00:00<?, ?B/s]"
      ],
      "application/vnd.jupyter.widget-view+json": {
       "version_major": 2,
       "version_minor": 0,
       "model_id": "7c7500c6bea4478a89e5e7d238bf8d0c"
      }
     },
     "metadata": {}
    },
    {
     "output_type": "display_data",
     "data": {
      "text/plain": [
       "file-000000000031.json.gz:   0%|          | 0.00/237M [00:00<?, ?B/s]"
      ],
      "application/vnd.jupyter.widget-view+json": {
       "version_major": 2,
       "version_minor": 0,
       "model_id": "ab7505ab4a454eb692fb054475f32f8d"
      }
     },
     "metadata": {}
    },
    {
     "output_type": "display_data",
     "data": {
      "text/plain": [
       "file-000000000032.json.gz:   0%|          | 0.00/239M [00:00<?, ?B/s]"
      ],
      "application/vnd.jupyter.widget-view+json": {
       "version_major": 2,
       "version_minor": 0,
       "model_id": "473481a78e1d4ac1859668bca1230111"
      }
     },
     "metadata": {}
    },
    {
     "output_type": "display_data",
     "data": {
      "text/plain": [
       "file-000000000033.json.gz:   0%|          | 0.00/236M [00:00<?, ?B/s]"
      ],
      "application/vnd.jupyter.widget-view+json": {
       "version_major": 2,
       "version_minor": 0,
       "model_id": "4bb227939b824ce2961ad977d92b0740"
      }
     },
     "metadata": {}
    },
    {
     "output_type": "display_data",
     "data": {
      "text/plain": [
       "file-000000000034.json.gz:   0%|          | 0.00/237M [00:00<?, ?B/s]"
      ],
      "application/vnd.jupyter.widget-view+json": {
       "version_major": 2,
       "version_minor": 0,
       "model_id": "2f659038e9cd4c378188ab279d6351df"
      }
     },
     "metadata": {}
    },
    {
     "output_type": "display_data",
     "data": {
      "text/plain": [
       "file-000000000035.json.gz:   0%|          | 0.00/235M [00:00<?, ?B/s]"
      ],
      "application/vnd.jupyter.widget-view+json": {
       "version_major": 2,
       "version_minor": 0,
       "model_id": "6cae9568d8fe40548e063217a4fdd29b"
      }
     },
     "metadata": {}
    },
    {
     "output_type": "display_data",
     "data": {
      "text/plain": [
       "file-000000000036.json.gz:   0%|          | 0.00/236M [00:00<?, ?B/s]"
      ],
      "application/vnd.jupyter.widget-view+json": {
       "version_major": 2,
       "version_minor": 0,
       "model_id": "380eeaf610244aa5a44e7baeaa91c21c"
      }
     },
     "metadata": {}
    },
    {
     "output_type": "display_data",
     "data": {
      "text/plain": [
       "file-000000000037.json.gz:   0%|          | 0.00/234M [00:00<?, ?B/s]"
      ],
      "application/vnd.jupyter.widget-view+json": {
       "version_major": 2,
       "version_minor": 0,
       "model_id": "4d75e96d6fec445ea73aa1728470de53"
      }
     },
     "metadata": {}
    },
    {
     "output_type": "display_data",
     "data": {
      "text/plain": [
       "file-000000000038.json.gz:   0%|          | 0.00/235M [00:00<?, ?B/s]"
      ],
      "application/vnd.jupyter.widget-view+json": {
       "version_major": 2,
       "version_minor": 0,
       "model_id": "5eb0b1f4befd494fae236e15527d4970"
      }
     },
     "metadata": {}
    },
    {
     "output_type": "display_data",
     "data": {
      "text/plain": [
       "file-000000000039.json.gz:   0%|          | 0.00/234M [00:00<?, ?B/s]"
      ],
      "application/vnd.jupyter.widget-view+json": {
       "version_major": 2,
       "version_minor": 0,
       "model_id": "4272d4b4ac3e4abf9231f3ecc07fa6d2"
      }
     },
     "metadata": {}
    },
    {
     "output_type": "display_data",
     "data": {
      "text/plain": [
       "file-000000000040.json.gz:   0%|          | 0.00/234M [00:00<?, ?B/s]"
      ],
      "application/vnd.jupyter.widget-view+json": {
       "version_major": 2,
       "version_minor": 0,
       "model_id": "c1bde5e16f6043eba75f6022fb5e00e2"
      }
     },
     "metadata": {}
    },
    {
     "output_type": "display_data",
     "data": {
      "text/plain": [
       "file-000000000041.json.gz:   0%|          | 0.00/235M [00:00<?, ?B/s]"
      ],
      "application/vnd.jupyter.widget-view+json": {
       "version_major": 2,
       "version_minor": 0,
       "model_id": "be49cfdb63044ec68c723c8cecd2880f"
      }
     },
     "metadata": {}
    },
    {
     "output_type": "display_data",
     "data": {
      "text/plain": [
       "file-000000000042.json.gz:   0%|          | 0.00/236M [00:00<?, ?B/s]"
      ],
      "application/vnd.jupyter.widget-view+json": {
       "version_major": 2,
       "version_minor": 0,
       "model_id": "339e68dad5ae4bb584086329a62b5c6d"
      }
     },
     "metadata": {}
    },
    {
     "output_type": "display_data",
     "data": {
      "text/plain": [
       "file-000000000043.json.gz:   0%|          | 0.00/236M [00:00<?, ?B/s]"
      ],
      "application/vnd.jupyter.widget-view+json": {
       "version_major": 2,
       "version_minor": 0,
       "model_id": "9133096ad6e447c988d1f4797fd3ac12"
      }
     },
     "metadata": {}
    },
    {
     "output_type": "display_data",
     "data": {
      "text/plain": [
       "file-000000000044.json.gz:   0%|          | 0.00/234M [00:00<?, ?B/s]"
      ],
      "application/vnd.jupyter.widget-view+json": {
       "version_major": 2,
       "version_minor": 0,
       "model_id": "7adcbb3a9e17430aaecdf22592be2941"
      }
     },
     "metadata": {}
    },
    {
     "output_type": "display_data",
     "data": {
      "text/plain": [
       "file-000000000045.json.gz:   0%|          | 0.00/237M [00:00<?, ?B/s]"
      ],
      "application/vnd.jupyter.widget-view+json": {
       "version_major": 2,
       "version_minor": 0,
       "model_id": "2666bd4773af408fb1eead26b751df46"
      }
     },
     "metadata": {}
    },
    {
     "output_type": "display_data",
     "data": {
      "text/plain": [
       "file-000000000046.json.gz:   0%|          | 0.00/234M [00:00<?, ?B/s]"
      ],
      "application/vnd.jupyter.widget-view+json": {
       "version_major": 2,
       "version_minor": 0,
       "model_id": "5cda95aa55fa4c72bc1982a129aa670f"
      }
     },
     "metadata": {}
    },
    {
     "output_type": "display_data",
     "data": {
      "text/plain": [
       "file-000000000047.json.gz:   0%|          | 0.00/232M [00:00<?, ?B/s]"
      ],
      "application/vnd.jupyter.widget-view+json": {
       "version_major": 2,
       "version_minor": 0,
       "model_id": "22fc560cd6924692886f05aef635afed"
      }
     },
     "metadata": {}
    },
    {
     "output_type": "display_data",
     "data": {
      "text/plain": [
       "file-000000000048.json.gz:   0%|          | 0.00/232M [00:00<?, ?B/s]"
      ],
      "application/vnd.jupyter.widget-view+json": {
       "version_major": 2,
       "version_minor": 0,
       "model_id": "50544becc9a24401a9db71d8930b16f8"
      }
     },
     "metadata": {}
    },
    {
     "output_type": "display_data",
     "data": {
      "text/plain": [
       "file-000000000049.json.gz:   0%|          | 0.00/233M [00:00<?, ?B/s]"
      ],
      "application/vnd.jupyter.widget-view+json": {
       "version_major": 2,
       "version_minor": 0,
       "model_id": "62f064ee17194a6980b395f8bc5b2906"
      }
     },
     "metadata": {}
    },
    {
     "output_type": "display_data",
     "data": {
      "text/plain": [
       "file-000000000050.json.gz:   0%|          | 0.00/234M [00:00<?, ?B/s]"
      ],
      "application/vnd.jupyter.widget-view+json": {
       "version_major": 2,
       "version_minor": 0,
       "model_id": "814a65ab8a2340b485c7358ea539dc70"
      }
     },
     "metadata": {}
    },
    {
     "output_type": "display_data",
     "data": {
      "text/plain": [
       "file-000000000051.json.gz:   0%|          | 0.00/233M [00:00<?, ?B/s]"
      ],
      "application/vnd.jupyter.widget-view+json": {
       "version_major": 2,
       "version_minor": 0,
       "model_id": "6e8c92cc09684937b6a4f098a45c7e34"
      }
     },
     "metadata": {}
    },
    {
     "output_type": "display_data",
     "data": {
      "text/plain": [
       "file-000000000052.json.gz:   0%|          | 0.00/234M [00:00<?, ?B/s]"
      ],
      "application/vnd.jupyter.widget-view+json": {
       "version_major": 2,
       "version_minor": 0,
       "model_id": "b52adcd69bea47ee8571db55a1432a59"
      }
     },
     "metadata": {}
    },
    {
     "output_type": "display_data",
     "data": {
      "text/plain": [
       "file-000000000053.json.gz:   0%|          | 0.00/230M [00:00<?, ?B/s]"
      ],
      "application/vnd.jupyter.widget-view+json": {
       "version_major": 2,
       "version_minor": 0,
       "model_id": "3df14734574d45b2a95b1e4c140854b5"
      }
     },
     "metadata": {}
    },
    {
     "output_type": "display_data",
     "data": {
      "text/plain": [
       "file-000000000054.json.gz:   0%|          | 0.00/142M [00:00<?, ?B/s]"
      ],
      "application/vnd.jupyter.widget-view+json": {
       "version_major": 2,
       "version_minor": 0,
       "model_id": "caf2d8562ac847cdb4415afa4a3dde23"
      }
     },
     "metadata": {}
    },
    {
     "output_type": "display_data",
     "data": {
      "text/plain": [
       "Generating train split: 0 examples [00:00, ? examples/s]"
      ],
      "application/vnd.jupyter.widget-view+json": {
       "version_major": 2,
       "version_minor": 0,
       "model_id": "8069ff9f7c2b41b1b135c1af77489c4d"
      }
     },
     "metadata": {}
    },
    {
     "output_type": "stream",
     "name": "stdout",
     "text": [
      "Loaded 53614 examples\n"
     ]
    }
   ]
  },
  {
   "cell_type": "code",
   "source": [
    "#4: Format CodeParrot examples into ChatML instruction style\n",
    "def format_chatml(example):\n",
    "    user_prompt = \"Write Python code for the following task:\"\n",
    "    return {\n",
    "        \"prompt\": f\"<|im_start|>user\\n{user_prompt}\\n<|im_end|>\\n<|im_start|>assistant\\n\",\n",
    "        \"output\": f\"{example['content']}<|im_end|>\"\n",
    "    }\n",
    "\n",
    "dataset = dataset.map(format_chatml)\n"
   ],
   "metadata": {
    "colab": {
     "base_uri": "https://localhost:8080/",
     "height": 49,
     "referenced_widgets": [
      "c7936d8322794dfebbc00e21f3879981",
      "101ed8bd748444bdb406b4eb391a8ac0",
      "441195b606ba424f9ef07bc96ac28138",
      "577eb47569c24454a44f565c86596939",
      "bc854eb0ea4c42cd9bfb68a810dc21f8",
      "18c4022147754318b9c8cdc901b3ba95",
      "1d07874d993340e48eb915411842e9a4",
      "54e5dde9a42b489eabfe42a5629d0032",
      "42b5ca661f1442bdbd3c80ce47b5c2d0",
      "f1269b172f19449d9d3829e67e3aebb2",
      "758de06848e2430b9639e350bbdae627"
     ]
    },
    "id": "0WAlK2E3uMOp",
    "outputId": "c5b2991a-6f5c-4546-f473-1ed2fc481fdb"
   },
   "execution_count": 4,
   "outputs": [
    {
     "output_type": "display_data",
     "data": {
      "text/plain": [
       "Map:   0%|          | 0/53614 [00:00<?, ? examples/s]"
      ],
      "application/vnd.jupyter.widget-view+json": {
       "version_major": 2,
       "version_minor": 0,
       "model_id": "c7936d8322794dfebbc00e21f3879981"
      }
     },
     "metadata": {}
    }
   ]
  },
  {
   "cell_type": "code",
   "source": [
    "#5: Create SupervisedDataset for finetuning\n",
    "from torch.utils.data import Dataset\n",
    "\n",
    "class SupervisedDataset(Dataset):\n",
    "    def __init__(self, dataset, tokenizer):\n",
    "        self.dataset = dataset\n",
    "        self.tokenizer = tokenizer\n",
    "\n",
    "    def __len__(self):\n",
    "        return len(self.dataset)\n",
    "\n",
    "    def __getitem__(self, idx):\n",
    "        prompt = self.dataset[idx][\"prompt\"]\n",
    "        output = self.dataset[idx][\"output\"]\n",
    "        full_prompt = prompt + output\n",
    "\n",
    "        tokenized = self.tokenizer(full_prompt, truncation=True, padding=\"max_length\", max_length=2048, return_tensors=\"pt\")\n",
    "        input_ids = tokenized.input_ids.squeeze(0)\n",
    "        labels = input_ids.clone()\n",
    "        return {\"input_ids\": input_ids, \"labels\": labels}\n",
    "\n",
    "train_dataset = SupervisedDataset(dataset, tokenizer)\n"
   ],
   "metadata": {
    "id": "0BXxm563uQxL"
   },
   "execution_count": 5,
   "outputs": []
  },
  {
   "cell_type": "code",
   "source": [
    "#6: Setup Huggingface TrainingArguments\n",
    "from transformers import TrainingArguments\n",
    "\n",
    "training_args = TrainingArguments(\n",
    "    output_dir=\"./phi3-coding-finetuned\",\n",
    "    per_device_train_batch_size=1,\n",
    "    gradient_accumulation_steps=1,\n",
    "    warmup_steps=10,\n",
    "    max_steps=100,\n",
    "    learning_rate=2e-4,\n",
    "    fp16=True,\n",
    "    bf16=False,\n",
    "    logging_steps=10,\n",
    "    save_strategy=\"no\",\n",
    "    report_to=\"none\",\n",
    ")\n"
   ],
   "metadata": {
    "id": "3FrpwRq5uQ0F"
   },
   "execution_count": 6,
   "outputs": []
  },
  {
   "cell_type": "code",
   "source": [
    "#7: Fine-tune with SFTTrainer\n",
    "from trl import SFTTrainer\n",
    "\n",
    "trainer = SFTTrainer(\n",
    "    model=model,\n",
    "    train_dataset=train_dataset,\n",
    "    args=training_args,\n",
    "    tokenizer=tokenizer,\n",
    "    packing=False,\n",
    ")\n",
    "\n",
    "trainer.train()"
   ],
   "metadata": {
    "colab": {
     "base_uri": "https://localhost:8080/",
     "height": 545
    },
    "id": "AgUVCuvnuQ3c",
    "outputId": "04fadca0-d719-4b66-8dfd-90dd1930e6a5"
   },
   "execution_count": 7,
   "outputs": [
    {
     "output_type": "stream",
     "name": "stderr",
     "text": [
      "==((====))==  Unsloth - 2x faster free finetuning | Num GPUs used = 1\n",
      "   \\\\   /|    Num examples = 53,614 | Num Epochs = 1 | Total steps = 100\n",
      "O^O/ \\_/ \\    Batch size per device = 1 | Gradient accumulation steps = 1\n",
      "\\        /    Data Parallel GPUs = 1 | Total batch size (1 x 1 x 1) = 1\n",
      " \"-____-\"     Trainable parameters = 7,864,320/1,529,256,960 (0.51% trained)\n",
      "`use_cache=True` is incompatible with gradient checkpointing. Setting `use_cache=False`.\n"
     ]
    },
    {
     "output_type": "display_data",
     "data": {
      "text/plain": [
       "<IPython.core.display.HTML object>"
      ],
      "text/html": [
       "\n",
       "    <div>\n",
       "      \n",
       "      <progress value='100' max='100' style='width:300px; height:20px; vertical-align: middle;'></progress>\n",
       "      [100/100 04:52, Epoch 0/1]\n",
       "    </div>\n",
       "    <table border=\"1\" class=\"dataframe\">\n",
       "  <thead>\n",
       " <tr style=\"text-align: left;\">\n",
       "      <th>Step</th>\n",
       "      <th>Training Loss</th>\n",
       "    </tr>\n",
       "  </thead>\n",
       "  <tbody>\n",
       "    <tr>\n",
       "      <td>10</td>\n",
       "      <td>1.061800</td>\n",
       "    </tr>\n",
       "    <tr>\n",
       "      <td>20</td>\n",
       "      <td>0.975700</td>\n",
       "    </tr>\n",
       "    <tr>\n",
       "      <td>30</td>\n",
       "      <td>1.176100</td>\n",
       "    </tr>\n",
       "    <tr>\n",
       "      <td>40</td>\n",
       "      <td>0.958100</td>\n",
       "    </tr>\n",
       "    <tr>\n",
       "      <td>50</td>\n",
       "      <td>0.916100</td>\n",
       "    </tr>\n",
       "    <tr>\n",
       "      <td>60</td>\n",
       "      <td>0.864100</td>\n",
       "    </tr>\n",
       "    <tr>\n",
       "      <td>70</td>\n",
       "      <td>0.914700</td>\n",
       "    </tr>\n",
       "    <tr>\n",
       "      <td>80</td>\n",
       "      <td>1.033400</td>\n",
       "    </tr>\n",
       "    <tr>\n",
       "      <td>90</td>\n",
       "      <td>0.901900</td>\n",
       "    </tr>\n",
       "    <tr>\n",
       "      <td>100</td>\n",
       "      <td>0.962100</td>\n",
       "    </tr>\n",
       "  </tbody>\n",
       "</table><p>"
      ]
     },
     "metadata": {}
    },
    {
     "output_type": "stream",
     "name": "stdout",
     "text": [
      "Unsloth: Will smartly offload gradients to save VRAM!\n"
     ]
    },
    {
     "output_type": "execute_result",
     "data": {
      "text/plain": [
       "TrainOutput(global_step=100, training_loss=0.9764025688171387, metrics={'train_runtime': 342.9679, 'train_samples_per_second': 0.292, 'train_steps_per_second': 0.292, 'total_flos': 3264277905408000.0, 'train_loss': 0.9764025688171387})"
      ]
     },
     "metadata": {},
     "execution_count": 7
    }
   ]
  },
  {
   "cell_type": "code",
   "source": [
    "#8: Save fine-tuned model and tokenizer\n",
    "model.save_pretrained(\"./phi-coding-finetuned-model\")\n",
    "tokenizer.save_pretrained(\"./phi-coding-finetuned-model\")"
   ],
   "metadata": {
    "colab": {
     "base_uri": "https://localhost:8080/"
    },
    "id": "53zZEbp1uMjR",
    "outputId": "ab8ab2be-7a9f-449f-d611-28aecc2a0ed5"
   },
   "execution_count": 8,
   "outputs": [
    {
     "output_type": "execute_result",
     "data": {
      "text/plain": [
       "('./phi-coding-finetuned-model/tokenizer_config.json',\n",
       " './phi-coding-finetuned-model/special_tokens_map.json',\n",
       " './phi-coding-finetuned-model/vocab.json',\n",
       " './phi-coding-finetuned-model/merges.txt',\n",
       " './phi-coding-finetuned-model/added_tokens.json',\n",
       " './phi-coding-finetuned-model/tokenizer.json')"
      ]
     },
     "metadata": {},
     "execution_count": 8
    }
   ]
  },
  {
   "cell_type": "code",
   "source": [
    "#9: Define inference function to generate responses\n",
    "def chat_response(prompt, max_new_tokens=256):\n",
    "    chat_prompt = f\"<|im_start|>user\\n{prompt}\\n<|im_end|>\\n<|im_start|>assistant\\n\"\n",
    "    inputs = tokenizer(chat_prompt, return_tensors=\"pt\").to(model.device)\n",
    "\n",
    "    output = model.generate(\n",
    "        **inputs,\n",
    "        max_new_tokens=max_new_tokens,\n",
    "        temperature=0.7,\n",
    "        top_p=0.9,\n",
    "        pad_token_id=tokenizer.eos_token_id,\n",
    "    )\n",
    "\n",
    "    decoded = tokenizer.decode(output[0], skip_special_tokens=True)\n",
    "    start = decoded.find(\"<|im_start|>assistant\\n\")\n",
    "    if start != -1:\n",
    "        response = decoded[start + len(\"<|im_start|>assistant\\n\"):].strip()\n",
    "    else:\n",
    "        response = decoded.strip()\n",
    "    response = response.split(\"<|im_end|>\")[0].strip()\n",
    "    return response\n",
    "\n",
    "# Test with coding prompts\n",
    "test_prompts = [\n",
    "\n",
    "    \"Explain the difference between a set and a dictionary in Python.\",\n",
    "\n",
    "\n",
    "]\n",
    "\n",
    "for i, prompt in enumerate(test_prompts, 1):\n",
    "    print(f\"Prompt {i}: {prompt}\")\n",
    "    print(f\"Response:\\n{chat_response(prompt)}\")"
   ],
   "metadata": {
    "colab": {
     "base_uri": "https://localhost:8080/"
    },
    "id": "7ODcfMtJ1brJ",
    "outputId": "fe156a2d-be67-410d-e673-dc5f28e4403b"
   },
   "execution_count": 13,
   "outputs": [
    {
     "output_type": "stream",
     "name": "stdout",
     "text": [
      "Prompt 1: Explain the difference between a set and a dictionary in Python.\n",
      "Response:\n",
      "A set is an unordered collection of unique elements, while a dictionary is a collection of key-value pairs.\n"
     ]
    }
   ]
  }
 ]
}