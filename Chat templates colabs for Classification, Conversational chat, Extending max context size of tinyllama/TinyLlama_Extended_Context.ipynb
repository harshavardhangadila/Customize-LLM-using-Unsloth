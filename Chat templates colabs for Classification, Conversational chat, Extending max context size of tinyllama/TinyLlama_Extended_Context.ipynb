{
 "nbformat": 4,
 "nbformat_minor": 0,
 "metadata": {
  "colab": {
   "provenance": [],
   "gpuType": "T4"
  },
  "kernelspec": {
   "name": "python3",
   "display_name": "Python 3"
  },
  "language_info": {
   "name": "python"
  },
  "accelerator": "GPU"
 },
 "cells": [
  {
   "cell_type": "markdown",
   "source": [
    "<a href=\"https://colab.research.google.com/drive/1kxqf1JrDgmgY-rdwuZ2klYw2LILZJesz?usp=sharing\">\n",
    "  <img src=\"https://colab.research.google.com/assets/colab-badge.svg\" alt=\"Open in Colab\"/>\n",
    "</a>\n"
   ],
   "metadata": {
    "id": "Wxw95lSvmBVJ"
   }
  },
  {
   "cell_type": "code",
   "source": [
    "#1 Install required libraries\n",
    "!pip install -q unsloth \"torch>=2.1\" transformers peft datasets accelerate bitsandbytes"
   ],
   "metadata": {
    "colab": {
     "base_uri": "https://localhost:8080/"
    },
    "id": "WCdWsASAmDoV",
    "outputId": "e89457ce-ec69-48c4-ad18-b61959efe273"
   },
   "execution_count": 1,
   "outputs": [
    {
     "output_type": "stream",
     "name": "stdout",
     "text": [
      "\u001b[2K     \u001b[90m\u2501\u2501\u2501\u2501\u2501\u2501\u2501\u2501\u2501\u2501\u2501\u2501\u2501\u2501\u2501\u2501\u2501\u2501\u2501\u2501\u2501\u2501\u2501\u2501\u2501\u2501\u2501\u2501\u2501\u2501\u2501\u2501\u2501\u2501\u2501\u2501\u2501\u2501\u2501\u2501\u001b[0m \u001b[32m46.4/46.4 kB\u001b[0m \u001b[31m2.5 MB/s\u001b[0m eta \u001b[36m0:00:00\u001b[0m\n",
      "\u001b[2K   \u001b[90m\u2501\u2501\u2501\u2501\u2501\u2501\u2501\u2501\u2501\u2501\u2501\u2501\u2501\u2501\u2501\u2501\u2501\u2501\u2501\u2501\u2501\u2501\u2501\u2501\u2501\u2501\u2501\u2501\u2501\u2501\u2501\u2501\u2501\u2501\u2501\u2501\u2501\u2501\u2501\u2501\u001b[0m \u001b[32m193.2/193.2 kB\u001b[0m \u001b[31m11.0 MB/s\u001b[0m eta \u001b[36m0:00:00\u001b[0m\n",
      "\u001b[2K   \u001b[90m\u2501\u2501\u2501\u2501\u2501\u2501\u2501\u2501\u2501\u2501\u2501\u2501\u2501\u2501\u2501\u2501\u2501\u2501\u2501\u2501\u2501\u2501\u2501\u2501\u2501\u2501\u2501\u2501\u2501\u2501\u2501\u2501\u2501\u2501\u2501\u2501\u2501\u2501\u2501\u2501\u001b[0m \u001b[32m363.4/363.4 MB\u001b[0m \u001b[31m4.1 MB/s\u001b[0m eta \u001b[36m0:00:00\u001b[0m\n",
      "\u001b[2K   \u001b[90m\u2501\u2501\u2501\u2501\u2501\u2501\u2501\u2501\u2501\u2501\u2501\u2501\u2501\u2501\u2501\u2501\u2501\u2501\u2501\u2501\u2501\u2501\u2501\u2501\u2501\u2501\u2501\u2501\u2501\u2501\u2501\u2501\u2501\u2501\u2501\u2501\u2501\u2501\u2501\u2501\u001b[0m \u001b[32m13.8/13.8 MB\u001b[0m \u001b[31m66.0 MB/s\u001b[0m eta \u001b[36m0:00:00\u001b[0m\n",
      "\u001b[2K   \u001b[90m\u2501\u2501\u2501\u2501\u2501\u2501\u2501\u2501\u2501\u2501\u2501\u2501\u2501\u2501\u2501\u2501\u2501\u2501\u2501\u2501\u2501\u2501\u2501\u2501\u2501\u2501\u2501\u2501\u2501\u2501\u2501\u2501\u2501\u2501\u2501\u2501\u2501\u2501\u2501\u2501\u001b[0m \u001b[32m24.6/24.6 MB\u001b[0m \u001b[31m58.2 MB/s\u001b[0m eta \u001b[36m0:00:00\u001b[0m\n",
      "\u001b[2K   \u001b[90m\u2501\u2501\u2501\u2501\u2501\u2501\u2501\u2501\u2501\u2501\u2501\u2501\u2501\u2501\u2501\u2501\u2501\u2501\u2501\u2501\u2501\u2501\u2501\u2501\u2501\u2501\u2501\u2501\u2501\u2501\u2501\u2501\u2501\u2501\u2501\u2501\u2501\u2501\u2501\u2501\u001b[0m \u001b[32m883.7/883.7 kB\u001b[0m \u001b[31m37.4 MB/s\u001b[0m eta \u001b[36m0:00:00\u001b[0m\n",
      "\u001b[2K   \u001b[90m\u2501\u2501\u2501\u2501\u2501\u2501\u2501\u2501\u2501\u2501\u2501\u2501\u2501\u2501\u2501\u2501\u2501\u2501\u2501\u2501\u2501\u2501\u2501\u2501\u2501\u2501\u2501\u2501\u2501\u2501\u2501\u2501\u2501\u2501\u2501\u2501\u2501\u2501\u2501\u2501\u001b[0m \u001b[32m664.8/664.8 MB\u001b[0m \u001b[31m2.7 MB/s\u001b[0m eta \u001b[36m0:00:00\u001b[0m\n",
      "\u001b[2K   \u001b[90m\u2501\u2501\u2501\u2501\u2501\u2501\u2501\u2501\u2501\u2501\u2501\u2501\u2501\u2501\u2501\u2501\u2501\u2501\u2501\u2501\u2501\u2501\u2501\u2501\u2501\u2501\u2501\u2501\u2501\u2501\u2501\u2501\u2501\u2501\u2501\u2501\u2501\u2501\u2501\u2501\u001b[0m \u001b[32m211.5/211.5 MB\u001b[0m \u001b[31m6.6 MB/s\u001b[0m eta \u001b[36m0:00:00\u001b[0m\n",
      "\u001b[2K   \u001b[90m\u2501\u2501\u2501\u2501\u2501\u2501\u2501\u2501\u2501\u2501\u2501\u2501\u2501\u2501\u2501\u2501\u2501\u2501\u2501\u2501\u2501\u2501\u2501\u2501\u2501\u2501\u2501\u2501\u2501\u2501\u2501\u2501\u2501\u2501\u2501\u2501\u2501\u2501\u2501\u2501\u001b[0m \u001b[32m56.3/56.3 MB\u001b[0m \u001b[31m17.5 MB/s\u001b[0m eta \u001b[36m0:00:00\u001b[0m\n",
      "\u001b[2K   \u001b[90m\u2501\u2501\u2501\u2501\u2501\u2501\u2501\u2501\u2501\u2501\u2501\u2501\u2501\u2501\u2501\u2501\u2501\u2501\u2501\u2501\u2501\u2501\u2501\u2501\u2501\u2501\u2501\u2501\u2501\u2501\u2501\u2501\u2501\u2501\u2501\u2501\u2501\u2501\u2501\u2501\u001b[0m \u001b[32m127.9/127.9 MB\u001b[0m \u001b[31m6.6 MB/s\u001b[0m eta \u001b[36m0:00:00\u001b[0m\n",
      "\u001b[2K   \u001b[90m\u2501\u2501\u2501\u2501\u2501\u2501\u2501\u2501\u2501\u2501\u2501\u2501\u2501\u2501\u2501\u2501\u2501\u2501\u2501\u2501\u2501\u2501\u2501\u2501\u2501\u2501\u2501\u2501\u2501\u2501\u2501\u2501\u2501\u2501\u2501\u2501\u2501\u2501\u2501\u2501\u001b[0m \u001b[32m207.5/207.5 MB\u001b[0m \u001b[31m6.3 MB/s\u001b[0m eta \u001b[36m0:00:00\u001b[0m\n",
      "\u001b[2K   \u001b[90m\u2501\u2501\u2501\u2501\u2501\u2501\u2501\u2501\u2501\u2501\u2501\u2501\u2501\u2501\u2501\u2501\u2501\u2501\u2501\u2501\u2501\u2501\u2501\u2501\u2501\u2501\u2501\u2501\u2501\u2501\u2501\u2501\u2501\u2501\u2501\u2501\u2501\u2501\u2501\u2501\u001b[0m \u001b[32m21.1/21.1 MB\u001b[0m \u001b[31m81.4 MB/s\u001b[0m eta \u001b[36m0:00:00\u001b[0m\n",
      "\u001b[2K   \u001b[90m\u2501\u2501\u2501\u2501\u2501\u2501\u2501\u2501\u2501\u2501\u2501\u2501\u2501\u2501\u2501\u2501\u2501\u2501\u2501\u2501\u2501\u2501\u2501\u2501\u2501\u2501\u2501\u2501\u2501\u2501\u2501\u2501\u2501\u2501\u2501\u2501\u2501\u2501\u2501\u2501\u001b[0m \u001b[32m491.2/491.2 kB\u001b[0m \u001b[31m25.5 MB/s\u001b[0m eta \u001b[36m0:00:00\u001b[0m\n",
      "\u001b[2K   \u001b[90m\u2501\u2501\u2501\u2501\u2501\u2501\u2501\u2501\u2501\u2501\u2501\u2501\u2501\u2501\u2501\u2501\u2501\u2501\u2501\u2501\u2501\u2501\u2501\u2501\u2501\u2501\u2501\u2501\u2501\u2501\u2501\u2501\u2501\u2501\u2501\u2501\u2501\u2501\u2501\u2501\u001b[0m \u001b[32m76.1/76.1 MB\u001b[0m \u001b[31m8.1 MB/s\u001b[0m eta \u001b[36m0:00:00\u001b[0m\n",
      "\u001b[2K   \u001b[90m\u2501\u2501\u2501\u2501\u2501\u2501\u2501\u2501\u2501\u2501\u2501\u2501\u2501\u2501\u2501\u2501\u2501\u2501\u2501\u2501\u2501\u2501\u2501\u2501\u2501\u2501\u2501\u2501\u2501\u2501\u2501\u2501\u2501\u2501\u2501\u2501\u2501\u2501\u2501\u2501\u001b[0m \u001b[32m116.3/116.3 kB\u001b[0m \u001b[31m10.3 MB/s\u001b[0m eta \u001b[36m0:00:00\u001b[0m\n",
      "\u001b[2K   \u001b[90m\u2501\u2501\u2501\u2501\u2501\u2501\u2501\u2501\u2501\u2501\u2501\u2501\u2501\u2501\u2501\u2501\u2501\u2501\u2501\u2501\u2501\u2501\u2501\u2501\u2501\u2501\u2501\u2501\u2501\u2501\u2501\u2501\u2501\u2501\u2501\u2501\u2501\u2501\u2501\u2501\u001b[0m \u001b[32m183.9/183.9 kB\u001b[0m \u001b[31m15.4 MB/s\u001b[0m eta \u001b[36m0:00:00\u001b[0m\n",
      "\u001b[2K   \u001b[90m\u2501\u2501\u2501\u2501\u2501\u2501\u2501\u2501\u2501\u2501\u2501\u2501\u2501\u2501\u2501\u2501\u2501\u2501\u2501\u2501\u2501\u2501\u2501\u2501\u2501\u2501\u2501\u2501\u2501\u2501\u2501\u2501\u2501\u2501\u2501\u2501\u2501\u2501\u2501\u2501\u001b[0m \u001b[32m143.5/143.5 kB\u001b[0m \u001b[31m12.3 MB/s\u001b[0m eta \u001b[36m0:00:00\u001b[0m\n",
      "\u001b[2K   \u001b[90m\u2501\u2501\u2501\u2501\u2501\u2501\u2501\u2501\u2501\u2501\u2501\u2501\u2501\u2501\u2501\u2501\u2501\u2501\u2501\u2501\u2501\u2501\u2501\u2501\u2501\u2501\u2501\u2501\u2501\u2501\u2501\u2501\u2501\u2501\u2501\u2501\u2501\u2501\u2501\u2501\u001b[0m \u001b[32m162.1/162.1 kB\u001b[0m \u001b[31m14.5 MB/s\u001b[0m eta \u001b[36m0:00:00\u001b[0m\n",
      "\u001b[2K   \u001b[90m\u2501\u2501\u2501\u2501\u2501\u2501\u2501\u2501\u2501\u2501\u2501\u2501\u2501\u2501\u2501\u2501\u2501\u2501\u2501\u2501\u2501\u2501\u2501\u2501\u2501\u2501\u2501\u2501\u2501\u2501\u2501\u2501\u2501\u2501\u2501\u2501\u2501\u2501\u2501\u2501\u001b[0m \u001b[32m318.9/318.9 kB\u001b[0m \u001b[31m25.4 MB/s\u001b[0m eta \u001b[36m0:00:00\u001b[0m\n",
      "\u001b[2K   \u001b[90m\u2501\u2501\u2501\u2501\u2501\u2501\u2501\u2501\u2501\u2501\u2501\u2501\u2501\u2501\u2501\u2501\u2501\u2501\u2501\u2501\u2501\u2501\u2501\u2501\u2501\u2501\u2501\u2501\u2501\u2501\u2501\u2501\u2501\u2501\u2501\u2501\u2501\u2501\u2501\u2501\u001b[0m \u001b[32m128.9/128.9 kB\u001b[0m \u001b[31m6.9 MB/s\u001b[0m eta \u001b[36m0:00:00\u001b[0m\n",
      "\u001b[2K   \u001b[90m\u2501\u2501\u2501\u2501\u2501\u2501\u2501\u2501\u2501\u2501\u2501\u2501\u2501\u2501\u2501\u2501\u2501\u2501\u2501\u2501\u2501\u2501\u2501\u2501\u2501\u2501\u2501\u2501\u2501\u2501\u2501\u2501\u2501\u2501\u2501\u2501\u2501\u2501\u2501\u2501\u001b[0m \u001b[32m43.4/43.4 MB\u001b[0m \u001b[31m13.3 MB/s\u001b[0m eta \u001b[36m0:00:00\u001b[0m\n",
      "\u001b[2K   \u001b[90m\u2501\u2501\u2501\u2501\u2501\u2501\u2501\u2501\u2501\u2501\u2501\u2501\u2501\u2501\u2501\u2501\u2501\u2501\u2501\u2501\u2501\u2501\u2501\u2501\u2501\u2501\u2501\u2501\u2501\u2501\u2501\u2501\u2501\u2501\u2501\u2501\u2501\u2501\u2501\u2501\u001b[0m \u001b[32m3.6/3.6 MB\u001b[0m \u001b[31m61.2 MB/s\u001b[0m eta \u001b[36m0:00:00\u001b[0m\n",
      "\u001b[2K   \u001b[90m\u2501\u2501\u2501\u2501\u2501\u2501\u2501\u2501\u2501\u2501\u2501\u2501\u2501\u2501\u2501\u2501\u2501\u2501\u2501\u2501\u2501\u2501\u2501\u2501\u2501\u2501\u2501\u2501\u2501\u2501\u2501\u2501\u2501\u2501\u2501\u2501\u2501\u2501\u2501\u2501\u001b[0m \u001b[32m124.3/124.3 kB\u001b[0m \u001b[31m8.9 MB/s\u001b[0m eta \u001b[36m0:00:00\u001b[0m\n",
      "\u001b[2K   \u001b[90m\u2501\u2501\u2501\u2501\u2501\u2501\u2501\u2501\u2501\u2501\u2501\u2501\u2501\u2501\u2501\u2501\u2501\u2501\u2501\u2501\u2501\u2501\u2501\u2501\u2501\u2501\u2501\u2501\u2501\u2501\u2501\u2501\u2501\u2501\u2501\u2501\u2501\u2501\u2501\u2501\u001b[0m \u001b[32m194.8/194.8 kB\u001b[0m \u001b[31m12.2 MB/s\u001b[0m eta \u001b[36m0:00:00\u001b[0m\n",
      "\u001b[?25h\u001b[31mERROR: pip's dependency resolver does not currently take into account all the packages that are installed. This behaviour is the source of the following dependency conflicts.\n",
      "tensorflow-metadata 1.17.1 requires protobuf<6.0.0,>=4.25.2; python_version >= \"3.11\", but you have protobuf 3.20.3 which is incompatible.\n",
      "grpcio-status 1.71.0 requires protobuf<6.0dev,>=5.26.1, but you have protobuf 3.20.3 which is incompatible.\n",
      "ydf 0.11.0 requires protobuf<6.0.0,>=5.29.1, but you have protobuf 3.20.3 which is incompatible.\n",
      "gcsfs 2025.3.2 requires fsspec==2025.3.2, but you have fsspec 2024.12.0 which is incompatible.\u001b[0m\u001b[31m\n",
      "\u001b[0m"
     ]
    }
   ]
  },
  {
   "cell_type": "code",
   "source": [
    "# Step 2: Load TinyLlama model and extend context\n",
    "from unsloth import FastLanguageModel\n",
    "import torch\n",
    "\n",
    "model, tokenizer = FastLanguageModel.from_pretrained(\n",
    "    model_name=\"TinyLlama/TinyLlama-1.1B-Chat-v1.0\",\n",
    "    max_seq_length=8192,    # Extended to 8K tokens\n",
    "    dtype=torch.float16,\n",
    "    load_in_4bit=True,\n",
    ")\n",
    "\n",
    "tokenizer.pad_token = tokenizer.eos_token"
   ],
   "metadata": {
    "colab": {
     "base_uri": "https://localhost:8080/"
    },
    "id": "MYoYTaRimUA8",
    "outputId": "660160d6-d045-42e1-fd50-871144ddf988"
   },
   "execution_count": 8,
   "outputs": [
    {
     "output_type": "stream",
     "name": "stdout",
     "text": [
      "==((====))==  Unsloth 2025.4.1: Fast Llama patching. Transformers: 4.51.3.\n",
      "   \\\\   /|    Tesla T4. Num GPUs = 1. Max memory: 14.741 GB. Platform: Linux.\n",
      "O^O/ \\_/ \\    Torch: 2.6.0+cu124. CUDA: 7.5. CUDA Toolkit: 12.4. Triton: 3.2.0\n",
      "\\        /    Bfloat16 = FALSE. FA [Xformers = 0.0.29.post3. FA2 = False]\n",
      " \"-____-\"     Free license: http://github.com/unslothai/unsloth\n",
      "Unsloth: Fast downloading is enabled - ignore downloading bars which are red colored!\n"
     ]
    },
    {
     "output_type": "stream",
     "name": "stderr",
     "text": [
      "Unsloth: unsloth/tinyllama-chat-bnb-4bit can only handle sequence lengths of at most 2048.\n",
      "But with kaiokendev's RoPE scaling of 4.0, it can be magically be extended to 8192!\n"
     ]
    }
   ]
  },
  {
   "cell_type": "code",
   "source": [
    "# Step 2: Load TinyLlama model and extend context\n",
    "from unsloth import FastLanguageModel\n",
    "import torch\n",
    "\n",
    "model, tokenizer = FastLanguageModel.from_pretrained(\n",
    "    model_name=\"TinyLlama/TinyLlama-1.1B-Chat-v1.0\",\n",
    "    max_seq_length=4096,\n",
    "    dtype=torch.float16,\n",
    "    load_in_4bit=True,\n",
    ")\n",
    "\n",
    "tokenizer.pad_token = tokenizer.eos_token"
   ],
   "metadata": {
    "colab": {
     "base_uri": "https://localhost:8080/"
    },
    "id": "dl0JcOcIn4CT",
    "outputId": "adae5822-88c1-4a66-c325-10f5cfd83329"
   },
   "execution_count": 30,
   "outputs": [
    {
     "output_type": "stream",
     "name": "stdout",
     "text": [
      "==((====))==  Unsloth 2025.4.1: Fast Llama patching. Transformers: 4.51.3.\n",
      "   \\\\   /|    Tesla T4. Num GPUs = 1. Max memory: 14.741 GB. Platform: Linux.\n",
      "O^O/ \\_/ \\    Torch: 2.6.0+cu124. CUDA: 7.5. CUDA Toolkit: 12.4. Triton: 3.2.0\n",
      "\\        /    Bfloat16 = FALSE. FA [Xformers = 0.0.29.post3. FA2 = False]\n",
      " \"-____-\"     Free license: http://github.com/unslothai/unsloth\n",
      "Unsloth: Fast downloading is enabled - ignore downloading bars which are red colored!\n"
     ]
    }
   ]
  },
  {
   "cell_type": "code",
   "source": [
    "#4 Confirm the tokenizer and model configurations\n",
    "print(f\"Model context size (max_position_embeddings): {model.config.max_position_embeddings}\")\n",
    "print(f\"Tokenizer max length: {tokenizer.model_max_length}\")"
   ],
   "metadata": {
    "colab": {
     "base_uri": "https://localhost:8080/"
    },
    "id": "_-HdyKjxn4E7",
    "outputId": "8e5625c7-1b1e-4244-f692-674b4253c7b8"
   },
   "execution_count": 31,
   "outputs": [
    {
     "output_type": "stream",
     "name": "stdout",
     "text": [
      "Model context size (max_position_embeddings): 4096\n",
      "Tokenizer max length: 4096\n"
     ]
    }
   ]
  },
  {
   "cell_type": "code",
   "source": [
    "# Step 5: Save model and tokenizer to local folder\n",
    "save_path = \"tinyllama_context\"\n",
    "\n",
    "model.save_pretrained(save_path)\n",
    "tokenizer.save_pretrained(save_path)"
   ],
   "metadata": {
    "colab": {
     "base_uri": "https://localhost:8080/"
    },
    "id": "4-DmsPxxn4ID",
    "outputId": "4fb99075-d189-4ec4-c8c9-164a884b6ab6"
   },
   "execution_count": 32,
   "outputs": [
    {
     "output_type": "execute_result",
     "data": {
      "text/plain": [
       "('tinyllama_context/tokenizer_config.json',\n",
       " 'tinyllama_context/special_tokens_map.json',\n",
       " 'tinyllama_context/tokenizer.model',\n",
       " 'tinyllama_context/added_tokens.json',\n",
       " 'tinyllama_context/tokenizer.json')"
      ]
     },
     "metadata": {},
     "execution_count": 32
    }
   ]
  },
  {
   "cell_type": "code",
   "source": [
    "# Step 7: Reload model to verify it supports 8K context\n",
    "from transformers import AutoModelForCausalLM, AutoTokenizer\n",
    "\n",
    "reloaded_model = AutoModelForCausalLM.from_pretrained(\n",
    "    save_path,\n",
    "    device_map=\"auto\",\n",
    "    torch_dtype=torch.float16,\n",
    ")\n",
    "reloaded_tokenizer = AutoTokenizer.from_pretrained(save_path)\n",
    "\n",
    "print(f\"Reloaded model maximum context size: {reloaded_model.config.max_position_embeddings}\")"
   ],
   "metadata": {
    "colab": {
     "base_uri": "https://localhost:8080/"
    },
    "id": "V7gY4EW3mUDz",
    "outputId": "9394ea62-b319-429b-82ab-d015d238b05e"
   },
   "execution_count": 33,
   "outputs": [
    {
     "output_type": "stream",
     "name": "stdout",
     "text": [
      "Reloaded model maximum context size: 4096\n"
     ]
    }
   ]
  },
  {
   "cell_type": "code",
   "source": [
    "# Step 8: Generate output to test model\n",
    "\n",
    "prompt = \"In the kingdom of Eldoria, nestled between shimmering mountains and vast oceans, there existed a library that held the secrets of ancient civilizations. Scholars from around the world journeyed there, seeking wisdom lost to time. The scrolls and manuscripts, written in forgotten languages, spoke of heroes, of fallen kingdoms, of inventions that defied imagination. The guardians of the library, wise and mysterious, allowed only the most deserving to unlock these treasures\" * 20  # Medium-long prompt\n",
    "\n",
    "inputs = reloaded_tokenizer(prompt, return_tensors=\"pt\", truncation=True).to(\"cuda\")\n",
    "\n",
    "with torch.no_grad():\n",
    "    outputs = reloaded_model.generate(\n",
    "        **inputs,\n",
    "        max_new_tokens=50,   # Safer for memory\n",
    "        temperature=0.9,\n",
    "        top_p=0.9,\n",
    "        pad_token_id=reloaded_tokenizer.eos_token_id,\n",
    "    )\n",
    "\n",
    "print(\"\\n--- Output Generated ---\\n\")\n",
    "print(reloaded_tokenizer.decode(outputs[0], skip_special_tokens=True))"
   ],
   "metadata": {
    "colab": {
     "base_uri": "https://localhost:8080/"
    },
    "id": "CLAufQkmmUHE",
    "outputId": "f3a6ed48-08e0-4d59-fca0-6ac85893dd58"
   },
   "execution_count": 42,
   "outputs": [
    {
     "output_type": "stream",
     "name": "stdout",
     "text": [
      "\n",
      "--- Output Generated ---\n",
      "\n",
      "In the kingdom of Eldoria, nestled between shimmering mountains and vast oceans, there existed a library that held the secrets of ancient civilizations. Scholars from around the world journeyed there, seeking wisdom lost to time. The scrolls and manuscripts, written in forgotten languages, spoke of heroes, of fallen kingdoms, of inventions that defied imagination. The guardians of the library, wise and mysterious, allowed only the most deserving to unlock these treasuresIn the kingdom of Eldoria, nestled between shimmering mountains and vast oceans, there existed a library that held the secrets of ancient civilizations. Scholars from around the world journeyed there, seeking wisdom lost to time. The scrolls and manuscripts, written in forgotten languages, spoke of heroes, of fallen kingdoms, of inventions that defied imagination. The guardians of the library, wise and mysterious, allowed only the most deserving to unlock these treasuresIn the kingdom of Eldoria, nestled between shimmering mountains and vast oceans, there existed a library that held the secrets of ancient civilizations. Scholars from around the world journeyed there, seeking wisdom lost to time. The scrolls and manuscripts, written in forgotten languages, spoke of heroes, of fallen kingdoms, of inventions that defied imagination. The guardians of the library, wise and mysterious, allowed only the most deserving to unlock these treasuresIn the kingdom of Eldoria, nestled between shimmering mountains and vast oceans, there existed a library that held the secrets of ancient civilizations. Scholars from around the world journeyed there, seeking wisdom lost to time. The scrolls and manuscripts, written in forgotten languages, spoke of heroes, of fallen kingdoms, of inventions that defied imagination. The guardians of the library, wise and mysterious, allowed only the most deserving to unlock these treasuresIn the kingdom of Eldoria, nestled between shimmering mountains and vast oceans, there existed a library that held the secrets of ancient civilizations. Scholars from around the world journeyed there, seeking wisdom lost to time. The scrolls and manuscripts, written in forgotten languages, spoke of heroes, of fallen kingdoms, of inventions that defied imagination. The guardians of the library, wise and mysterious, allowed only the most deserving to unlock these treasuresIn the kingdom of Eldoria, nestled between shimmering mountains and vast oceans, there existed a library that held the secrets of ancient civilizations. Scholars from around the world journeyed there, seeking wisdom lost to time. The scrolls and manuscripts, written in forgotten languages, spoke of heroes, of fallen kingdoms, of inventions that defied imagination. The guardians of the library, wise and mysterious, allowed only the most deserving to unlock these treasuresIn the kingdom of Eldoria, nestled between shimmering mountains and vast oceans, there existed a library that held the secrets of ancient civilizations. Scholars from around the world journeyed there, seeking wisdom lost to time. The scrolls and manuscripts, written in forgotten languages, spoke of heroes, of fallen kingdoms, of inventions that defied imagination. The guardians of the library, wise and mysterious, allowed only the most deserving to unlock these treasuresIn the kingdom of Eldoria, nestled between shimmering mountains and vast oceans, there existed a library that held the secrets of ancient civilizations. Scholars from around the world journeyed there, seeking wisdom lost to time. The scrolls and manuscripts, written in forgotten languages, spoke of heroes, of fallen kingdoms, of inventions that defied imagination. The guardians of the library, wise and mysterious, allowed only the most deserving to unlock these treasuresIn the kingdom of Eldoria, nestled between shimmering mountains and vast oceans, there existed a library that held the secrets of ancient civilizations. Scholars from around the world journeyed there, seeking wisdom lost to time. The scrolls and manuscripts, written in forgotten languages, spoke of heroes, of fallen kingdoms, of inventions that defied imagination. The guardians of the library, wise and mysterious, allowed only the most deserving to unlock these treasuresIn the kingdom of Eldoria, nestled between shimmering mountains and vast oceans, there existed a library that held the secrets of ancient civilizations. Scholars from around the world journeyed there, seeking wisdom lost to time. The scrolls and manuscripts, written in forgotten languages, spoke of heroes, of fallen kingdoms, of inventions that defied imagination. The guardians of the library, wise and mysterious, allowed only the most deserving to unlock these treasuresIn the kingdom of Eldoria, nestled between shimmering mountains and vast oceans, there existed a library that held the secrets of ancient civilizations. Scholars from around the world journeyed there, seeking wisdom lost to time. The scrolls and manuscripts, written in forgotten languages, spoke of heroes, of fallen kingdoms, of inventions that defied imagination. The guardians of the library, wise and mysterious, allowed only the most deserving to unlock these treasuresIn the kingdom of Eldoria, nestled between shimmering mountains and vast oceans, there existed a library that held the secrets of ancient civilizations. Scholars from around the world journeyed there, seeking wisdom lost to time. The scrolls and manuscripts, written in forgotten languages, spoke of heroes, of fallen kingdoms, of inventions that defied imagination. The guardians of the library, wise and mysterious, allowed only the most deserving to unlock these treasuresIn the kingdom of Eldoria, nestled between shimmering mountains and vast oceans, there existed a library that held the secrets of ancient civilizations. Scholars from around the world journeyed there, seeking wisdom lost to time. The scrolls and manuscripts, written in forgotten languages, spoke of heroes, of fallen kingdoms, of inventions that defied imagination. The guardians of the library, wise and mysterious, allowed only the most deserving to unlock these treasuresIn the kingdom of Eldoria, nestled between shimmering mountains and vast oceans, there existed a library that held the secrets of ancient civilizations. Scholars from around the world journeyed there, seeking wisdom lost to time. The scrolls and manuscripts, written in forgotten languages, spoke of heroes, of fallen kingdoms, of inventions that defied imagination. The guardians of the library, wise and mysterious, allowed only the most deserving to unlock these treasuresIn the kingdom of Eldoria, nestled between shimmering mountains and vast oceans, there existed a library that held the secrets of ancient civilizations. Scholars from around the world journeyed there, seeking wisdom lost to time. The scrolls and manuscripts, written in forgotten languages, spoke of heroes, of fallen kingdoms, of inventions that defied imagination. The guardians of the library, wise and mysterious, allowed only the most deserving to unlock these treasuresIn the kingdom of Eldoria, nestled between shimmering mountains and vast oceans, there existed a library that held the secrets of ancient civilizations. Scholars from around the world journeyed there, seeking wisdom lost to time. The scrolls and manuscripts, written in forgotten languages, spoke of heroes, of fallen kingdoms, of inventions that defied imagination. The guardians of the library, wise and mysterious, allowed only the most deserving to unlock these treasuresIn the kingdom of Eldoria, nestled between shimmering mountains and vast oceans, there existed a library that held the secrets of ancient civilizations. Scholars from around the world journeyed there, seeking wisdom lost to time. The scrolls and manuscripts, written in forgotten languages, spoke of heroes, of fallen kingdoms, of inventions that defied imagination. The guardians of the library, wise and mysterious, allowed only the most deserving to unlock these treasuresIn the kingdom of Eldoria, nestled between shimmering mountains and vast oceans, there existed a library that held the secrets of ancient civilizations. Scholars from around the world journeyed there, seeking wisdom lost to time. The scrolls and manuscripts, written in forgotten languages, spoke of heroes, of fallen kingdoms, of inventions that defied imagination. The guardians of the library, wise and mysterious, allowed only the most deserving to unlock these treasuresIn the kingdom of Eldoria, nestled between shimmering mountains and vast oceans, there existed a library that held the secrets of ancient civilizations. Scholars from around the world journeyed there, seeking wisdom lost to time. The scrolls and manuscripts, written in forgotten languages, spoke of heroes, of fallen kingdoms, of inventions that defied imagination. The guardians of the library, wise and mysterious, allowed only the most deserving to unlock these treasuresIn the kingdom of Eldoria, nestled between shimmering mountains and vast oceans, there existed a library that held the secrets of ancient civilizations. Scholars from around the world journeyed there, seeking wisdom lost to time. The scrolls and manuscripts, written in forgotten languages, spoke of heroes, of fallen kingdoms, of inventions that defied imagination. The guardians of the library, wise and mysterious, allowed only the most deserving to unlock these treasuresIn the kingdom of Eldoria, nestled between shimmering mountains and vast oceans, there existed a library that held the secrets of ancient civilizations. Scholars from around the world journeyed there, seeking wisdom lost to\n"
     ]
    }
   ]
  }
 ]
}